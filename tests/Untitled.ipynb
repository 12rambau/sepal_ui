{
 "cells": [
  {
   "cell_type": "code",
   "execution_count": 1,
   "id": "29d4c456-401f-4c23-a7b2-ba2cbfdfe79b",
   "metadata": {},
   "outputs": [
    {
     "data": {
      "application/vnd.jupyter.widget-view+json": {
       "model_id": "a24f9e28f720431592f953c1932bd2af",
       "version_major": 2,
       "version_minor": 0
      },
      "text/plain": [
       "Styles()"
      ]
     },
     "metadata": {},
     "output_type": "display_data"
    },
    {
     "data": {
      "application/vnd.jupyter.widget-view+json": {
       "model_id": "78ad79e78366407abd70784fff48c253",
       "version_major": 2,
       "version_minor": 0
      },
      "text/plain": [
       "ResizeTrigger(template=\"\\n            <script>\\n                {methods: {\\n                    jupyter_resiz…"
      ]
     },
     "metadata": {},
     "output_type": "display_data"
    }
   ],
   "source": [
    "from pathlib import Path\n",
    "from sepal_ui.reclassify import ReclassifyView\n",
    "from sepal_ui.aoi import AoiModel\n",
    "import sepal_ui.sepalwidgets as sw"
   ]
  },
  {
   "cell_type": "code",
   "execution_count": 10,
   "id": "489cea83-4950-4e51-a300-3d4d6ee571ff",
   "metadata": {},
   "outputs": [],
   "source": [
    "asset_id = \"users/dafguerrerom/FAO/TESTS/LULC_2012_AOI_inner_gometry\"\n",
    "aoi_model = AoiModel(alert=sw.Alert(),  asset=asset_id)"
   ]
  },
  {
   "cell_type": "code",
   "execution_count": 3,
   "id": "4dce3588-3dba-4db4-829a-a6145737de48",
   "metadata": {},
   "outputs": [],
   "source": [
    "dum_dir = Path(\"~\").expanduser() / \"tmp/sepal_ui_tests/reclassify\""
   ]
  },
  {
   "cell_type": "code",
   "execution_count": 4,
   "id": "549001d5-8134-49fb-aab0-6a4f2b99fa44",
   "metadata": {},
   "outputs": [],
   "source": [
    "class_file = dum_dir / \"dum_default_classes.csv\""
   ]
  },
  {
   "cell_type": "code",
   "execution_count": 11,
   "id": "5d8011e7-1840-4ec2-b51e-a7b2f1c94523",
   "metadata": {},
   "outputs": [],
   "source": [
    "view = ReclassifyView(\n",
    "    aoi_model=aoi_model,\n",
    "    gee=True,\n",
    "    default_class={\n",
    "        \"IPCC\": str(class_file),\n",
    "    }, \n",
    ")"
   ]
  },
  {
   "cell_type": "code",
   "execution_count": 12,
   "id": "ea3e28ab-2520-442c-9e0f-9f518fea992a",
   "metadata": {},
   "outputs": [
    {
     "data": {
      "application/vnd.jupyter.widget-view+json": {
       "model_id": "81a660fa9faf4ed9a59ed4d7b4d8eb63",
       "version_major": 2,
       "version_minor": 0
      },
      "text/plain": [
       "ReclassifyView(children=[CardTitle(children=[Html(children=['Reclassify image'], tag='h2')]), Html(children=['…"
      ]
     },
     "metadata": {},
     "output_type": "display_data"
    }
   ],
   "source": [
    "view"
   ]
  },
  {
   "cell_type": "code",
   "execution_count": 21,
   "id": "3acd3c5b-8290-44c4-9a04-be9e0fdb610a",
   "metadata": {},
   "outputs": [],
   "source": [
    "from sepal_ui.scripts import gee\n"
   ]
  },
  {
   "cell_type": "code",
   "execution_count": 63,
   "id": "fb0e6eec-8ec5-4b55-941d-e3f3de5531e8",
   "metadata": {},
   "outputs": [
    {
     "data": {
      "text/plain": [
       "('FAO', 'TESTS', 'LULC_2012_AOI')"
      ]
     },
     "execution_count": 63,
     "metadata": {},
     "output_type": "execute_result"
    }
   ],
   "source": [
    "Path(view.model.src_gee).parts[2:]"
   ]
  },
  {
   "cell_type": "code",
   "execution_count": 64,
   "id": "ec9bc213-fddf-4a91-bc49-e298491e6d3d",
   "metadata": {},
   "outputs": [
    {
     "data": {
      "text/plain": [
       "'projects/earthengine-legacy/assets/users/dafguerrerom'"
      ]
     },
     "execution_count": 64,
     "metadata": {},
     "output_type": "execute_result"
    }
   ],
   "source": [
    "view.model.folder"
   ]
  },
  {
   "cell_type": "code",
   "execution_count": 40,
   "id": "c1fc27ca-b31a-4066-a863-6b25e78b9fb9",
   "metadata": {},
   "outputs": [
    {
     "data": {
      "text/plain": [
       "PosixPath('users/dafguerrerom/FAO/TESTS/LULC_2012_AOI')"
      ]
     },
     "execution_count": 40,
     "metadata": {},
     "output_type": "execute_result"
    }
   ],
   "source": [
    "Path(view.model.src_gee)"
   ]
  },
  {
   "cell_type": "code",
   "execution_count": 22,
   "id": "94a98c3d-4f12-4aea-9f18-097c62ad49bd",
   "metadata": {},
   "outputs": [],
   "source": [
    "current_assets = [asset['name'] for asset in gee.get_assets(view.model.folder)]"
   ]
  },
  {
   "cell_type": "code",
   "execution_count": 23,
   "id": "283b83ed-3493-48a9-ae6b-30373efeb241",
   "metadata": {},
   "outputs": [
    {
     "data": {
      "text/plain": [
       "1153"
      ]
     },
     "execution_count": 23,
     "metadata": {},
     "output_type": "execute_result"
    }
   ],
   "source": [
    "len(current_assets)"
   ]
  },
  {
   "cell_type": "code",
   "execution_count": 84,
   "id": "7877e007-bd1c-48ac-8034-b102e7515912",
   "metadata": {},
   "outputs": [
    {
     "data": {
      "text/plain": [
       "'projects/earthengine-legacy/assets/users/dafguerrerom/Agresta/Area_estudio'"
      ]
     },
     "execution_count": 84,
     "metadata": {},
     "output_type": "execute_result"
    }
   ],
   "source": [
    "current_assets[1]"
   ]
  },
  {
   "cell_type": "code",
   "execution_count": 87,
   "id": "f9a90a28-feb5-401b-aafe-31084b539ca7",
   "metadata": {},
   "outputs": [
    {
     "data": {
      "text/plain": [
       "'projects/earthengine-legacy/assets/users/dafguerrerom'"
      ]
     },
     "execution_count": 87,
     "metadata": {},
     "output_type": "execute_result"
    }
   ],
   "source": [
    "folder = ee.data.getAssetRoots()[0][\"id\"]\n",
    "folder"
   ]
  },
  {
   "cell_type": "code",
   "execution_count": 88,
   "id": "505ee6e1-84d2-4ee0-aefa-50986a9f7d83",
   "metadata": {},
   "outputs": [
    {
     "data": {
      "text/plain": [
       "'users/dafguerrerom/Agresta'"
      ]
     },
     "execution_count": 88,
     "metadata": {},
     "output_type": "execute_result"
    }
   ],
   "source": [
    "first_asset_id = ee.data.listAssets({\"parent\": folder})[\"assets\"][0]\n",
    "first_asset_id[\"id\"]"
   ]
  },
  {
   "cell_type": "code",
   "execution_count": 15,
   "id": "9906e6b3-1e28-43b2-910f-67a33ce10e08",
   "metadata": {},
   "outputs": [],
   "source": [
    "def next_name(name):\n",
    "    \"\"\"\"\"\"\n",
    "    if name[-1].isdigit():\n",
    "        last_number = int(name[-1])\n",
    "        name = name[:-1] + f'{last_number+1}'\n",
    "    else:\n",
    "        name += '_1'\n",
    "\n",
    "    return name"
   ]
  },
  {
   "cell_type": "code",
   "execution_count": 18,
   "id": "bab71abe-419e-45c3-b1be-964397bd71d6",
   "metadata": {},
   "outputs": [
    {
     "data": {
      "text/plain": [
       "'asdf__2'"
      ]
     },
     "execution_count": 18,
     "metadata": {},
     "output_type": "execute_result"
    }
   ],
   "source": [
    "next_name('asdf__1')"
   ]
  },
  {
   "cell_type": "code",
   "execution_count": 19,
   "id": "0fdccb89-3819-4bf7-8c81-2a9853fcc0da",
   "metadata": {},
   "outputs": [],
   "source": [
    "import ee\n",
    "ee.Initialize()"
   ]
  },
  {
   "cell_type": "code",
   "execution_count": null,
   "id": "e7ae77a0-f5fe-428c-8dae-08fd832d4c1d",
   "metadata": {},
   "outputs": [],
   "source": [
    "reclass_model = ReclassifyModel(\n",
    "    gee=True, dst_dir=dum_dir, aoi_model=aoi_model_gee, save=True\n",
    ")"
   ]
  },
  {
   "cell_type": "code",
   "execution_count": 82,
   "id": "3ec42d6c-5652-40d9-aa46-b3fecc310d3c",
   "metadata": {},
   "outputs": [],
   "source": [
    "folder = ee.data.getAssetRoots()[0][\"id\"]"
   ]
  },
  {
   "cell_type": "code",
   "execution_count": 78,
   "id": "864b7371-6000-4f38-81ce-7be8b77b5d22",
   "metadata": {},
   "outputs": [],
   "source": [
    "asset_name = f\"{Path('users/dafguerrerom/Agresta').stem}_reclass\""
   ]
  },
  {
   "cell_type": "code",
   "execution_count": 79,
   "id": "b8ab90e4-4379-43e0-bb84-ced1508be20a",
   "metadata": {},
   "outputs": [],
   "source": [
    "src_gee_path = Path().joinpath(*Path('users/dafguerrerom/Agresta').parts[2:-1])"
   ]
  },
  {
   "cell_type": "code",
   "execution_count": 83,
   "id": "033337d2-9e7f-4687-8544-2424f1370043",
   "metadata": {},
   "outputs": [
    {
     "data": {
      "text/plain": [
       "PosixPath('projects/earthengine-legacy/assets/users/dafguerrerom/Agresta_reclass')"
      ]
     },
     "execution_count": 83,
     "metadata": {},
     "output_type": "execute_result"
    }
   ],
   "source": [
    "Path(folder, src_gee_path, asset_name)"
   ]
  },
  {
   "cell_type": "code",
   "execution_count": 66,
   "id": "073cee66-1133-4a13-a9b4-3ec630a2e25a",
   "metadata": {},
   "outputs": [],
   "source": [
    "folder = ee.data.getAssetRoots()[0][\"id\"]\n",
    "first_asset_id = ee.data.listAssets({\"parent\": folder})[\"assets\"][0]"
   ]
  },
  {
   "cell_type": "code",
   "execution_count": 89,
   "id": "4b183816-a119-46e8-8bee-3a414749285e",
   "metadata": {},
   "outputs": [],
   "source": [
    "def create_dst_gee_name(src_gee, folder=None):\n",
    "    \"\"\"Creates an unique and consecutive asset name based on a source\n",
    "\n",
    "    Args:\n",
    "        src_gee (str): source gee asset id\n",
    "        folder (str, optional): user gee folder where the new asset_id will \n",
    "            be placed\n",
    "    \"\"\"\n",
    "\n",
    "    # create the asset_id\n",
    "    asset_name = f\"{Path(src_gee).stem}_reclass\"\n",
    "\n",
    "    if folder:\n",
    "        dst_gee = str(Path(folder, asset_name))\n",
    "\n",
    "    else:\n",
    "        # Get subfolders (asset/user/xx/xx/xx/aset_name) if has...\n",
    "        src_gee_path = Path().joinpath(*Path(src_gee).parts[2:-1])\n",
    "        folder = ee.data.getAssetRoots()[0][\"id\"]\n",
    "\n",
    "        # Store in the same folder as the source\n",
    "        dst_gee = str(Path(folder, src_gee_path, asset_name))\n",
    "\n",
    "    # check if the name already exist\n",
    "    current_assets = [asset['name'] for asset in gee.get_assets(folder)]\n",
    "\n",
    "    # An user could reclassify twice an asset,\n",
    "    # So let's create an unique name\n",
    "    while (dst_gee in current_assets):\n",
    "        dst_gee = Path(su.next_string(dst_gee))\n",
    "\n",
    "    return dst_gee"
   ]
  },
  {
   "cell_type": "code",
   "execution_count": 97,
   "id": "dc05a536-2944-4dba-8134-5c66a1d68f8b",
   "metadata": {},
   "outputs": [
    {
     "data": {
      "text/plain": [
       "'dafguerrerom'"
      ]
     },
     "execution_count": 97,
     "metadata": {},
     "output_type": "execute_result"
    }
   ],
   "source": [
    "user = Path(folder).parts[-1]\n",
    "user"
   ]
  },
  {
   "cell_type": "code",
   "execution_count": 91,
   "id": "16175b04-d3c8-4078-b038-bebe4d34b951",
   "metadata": {},
   "outputs": [
    {
     "data": {
      "text/plain": [
       "'projects/earthengine-legacy/assets/users/dafguerrerom/sub/folder/new_asset_reclass'"
      ]
     },
     "execution_count": 91,
     "metadata": {},
     "output_type": "execute_result"
    }
   ],
   "source": [
    "create_dst_gee_name('users/user/sub/folder/new_asset')"
   ]
  }
 ],
 "metadata": {
  "kernelspec": {
   "display_name": "Python 3",
   "language": "python",
   "name": "python3"
  },
  "language_info": {
   "codemirror_mode": {
    "name": "ipython",
    "version": 3
   },
   "file_extension": ".py",
   "mimetype": "text/x-python",
   "name": "python",
   "nbconvert_exporter": "python",
   "pygments_lexer": "ipython3",
   "version": "3.8.10"
  }
 },
 "nbformat": 4,
 "nbformat_minor": 5
}
