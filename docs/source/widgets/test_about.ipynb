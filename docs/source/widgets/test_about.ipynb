{
 "metadata": {
  "language_info": {
   "codemirror_mode": {
    "name": "ipython",
    "version": 3
   },
   "file_extension": ".py",
   "mimetype": "text/x-python",
   "name": "python",
   "nbconvert_exporter": "python",
   "pygments_lexer": "ipython3",
   "version": "3.8.3"
  },
  "orig_nbformat": 2,
  "kernelspec": {
   "name": "python3",
   "display_name": "Python 3",
   "language": "python"
  }
 },
 "nbformat": 4,
 "nbformat_minor": 2,
 "cells": [
  {
   "source": [
    "# About"
   ],
   "cell_type": "markdown",
   "metadata": {}
  },
  {
   "cell_type": "code",
   "execution_count": null,
   "metadata": {},
   "outputs": [],
   "source": [
    "from sepal_ui import sepalwidgets as sw\n",
    "from pathlib import Path \n",
    "\n",
    "tmp_file = Path('~', 'tmp', 'tmp_mkd.md').expanduser()\n",
    "\n",
    "with tmp_file.open('w') as f:\n",
    "    f.write('## It is a first section  \\n')\n",
    "    f.write(' Lorem ipsum')\n",
    "\n",
    "about_tile = sw.TileAbout(tmp_file)\n",
    "about_tile"
   ]
  },
  {
   "source": [
    "The file should be starting with a level 2 header as the title of the tile (\"About\") is already using the level 1\n",
    "\n",
    "More information can be found [here](../modules/sepal_ui.sepalwidgets.html#sepal_ui.sepalwidgets.tile.TileAbout)."
   ],
   "cell_type": "markdown",
   "metadata": {}
  }
 ]
}