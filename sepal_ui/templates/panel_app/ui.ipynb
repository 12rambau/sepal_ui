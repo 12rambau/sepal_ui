{
 "cells": [
  {
   "cell_type": "markdown",
   "metadata": {},
   "source": [
    "<center><h1 class=\"text-center h3\" id=\"loading-app\">Setting things up for you... Thanks for waiting!</h1></center>"
   ]
  },
  {
   "cell_type": "code",
   "execution_count": null,
   "metadata": {},
   "outputs": [],
   "source": [
    "from sepal_ui import sepalwidgets as sw\n",
    "from component.message import cm"
   ]
  },
  {
   "cell_type": "code",
   "execution_count": null,
   "metadata": {},
   "outputs": [],
   "source": [
    "# Create an appBar\n",
    "app_bar = sw.AppBar(cm.app.title, cm)"
   ]
  },
  {
   "cell_type": "code",
   "execution_count": null,
   "metadata": {},
   "outputs": [],
   "source": [
    "# Create a footer\n",
    "app_footer = sw.Footer(cm.app.footer.format(2020))"
   ]
  },
  {
   "cell_type": "code",
   "execution_count": null,
   "metadata": {},
   "outputs": [],
   "source": [
    "# load the partial files\n",
    "%run \"about_ui.ipynb\"\n",
    "\n",
    "# Gather all the partial tiles that you created previously\n",
    "app_content = [about_tile, disclaimer_tile]"
   ]
  },
  {
   "cell_type": "code",
   "execution_count": null,
   "metadata": {},
   "outputs": [],
   "source": [
    "# create a drawer for each group of tile\n",
    "# fmt: off\n",
    "items = [\n",
    "    sw.DrawerItem(cm.app.drawer_item.about, \"fa-solid fa-question-circle\", card=\"about_tile\"),\n",
    "]\n",
    "# fmt: on\n",
    "\n",
    "# Add the links to the code, wiki and issue tracker of your\n",
    "code_link = \"https://github.com/12rambau/sepal_ui/\"\n",
    "wiki_link = \"https://github.com/12rambau/sepal_ui/blob/master/doc/en.rst\"\n",
    "issue_link = \"https://github.com/12rambau/sepal_ui/issues/new\"\n",
    "\n",
    "# Create the side drawer with all its components\n",
    "app_drawer = sw.NavDrawer(items=items, code=code_link, wiki=wiki_link, issue=issue_link)"
   ]
  },
  {
   "cell_type": "code",
   "execution_count": null,
   "metadata": {},
   "outputs": [],
   "source": [
    "# build the Html final app by gathering everything\n",
    "app = sw.App(\n",
    "    _metadata = {\"mount_id\": \"content\"},\n",
    "    tiles=app_content,\n",
    "    appBar=app_bar,\n",
    "    # footer=app_footer,\n",
    "    navDrawer=app_drawer,\n",
    "    translator=cm,\n",
    ")"
   ]
  },
  {
   "cell_type": "code",
   "execution_count": null,
   "metadata": {},
   "outputs": [],
   "source": [
    "# display the app\n",
    "app.show_tile(\"about_tile\").add_banner(cm.app.banner)"
   ]
  },
  {
   "cell_type": "code",
   "execution_count": null,
   "metadata": {},
   "outputs": [],
   "source": [
    "from IPython.display import Javascript\n",
    "js = Javascript(\"\"\"\n",
    "console.log('asdfasdf');\n",
    "            \n",
    "// Select the .v-application-wrapper element\n",
    "var wrappers = document.querySelectorAll('.vuetify-styles div.v-application--wrap');\n",
    "console.log(wrappers);\n",
    "\n",
    "// Loop through each wrapper to check for a div with id=\"app\"\n",
    "wrappers.forEach(function(wrapper) {\n",
    "  var appDiv = wrapper.querySelector('#app');\n",
    "\n",
    "  // If an appDiv is found within this wrapper\n",
    "  if(appDiv) {\n",
    "      // Check if the special-style class has already been applied to the wrapper\n",
    "      if(wrapper.classList.contains('special-style')) {\n",
    "      console.log('special-style already applied to a wrapper containing #app');\n",
    "      // Perform any additional actions knowing the class is already applied\n",
    "      } else {\n",
    "      // If the special-style class hasn't been applied yet, you can apply it now\n",
    "      wrapper.classList.add('special-style');\n",
    "      console.log('special-style applied to the wrapper containing #app');\n",
    "      }\n",
    "  }\n",
    "});\n",
    "\n",
    "\"\"\")\n",
    "display(js)"
   ]
  }
 ],
 "metadata": {
  "kernelspec": {
   "display_name": "Python 3 (ipykernel)",
   "language": "python",
   "name": "python3"
  },
  "language_info": {
   "codemirror_mode": {
    "name": "ipython",
    "version": 3
   },
   "file_extension": ".py",
   "mimetype": "text/x-python",
   "name": "python",
   "nbconvert_exporter": "python",
   "pygments_lexer": "ipython3",
   "version": "3.10.12"
  },
  "voila": {
   "theme": "dark"
  }
 },
 "nbformat": 4,
 "nbformat_minor": 4
}
