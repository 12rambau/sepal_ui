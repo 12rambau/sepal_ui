{
 "cells": [
  {
   "cell_type": "code",
   "execution_count": 1,
   "id": "614d40b2-3e5c-46eb-a26a-b5f75af3149d",
   "metadata": {},
   "outputs": [],
   "source": [
    "import os\n",
    "from planetlab import Planetlab\n",
    "from planet import api"
   ]
  },
  {
   "cell_type": "code",
   "execution_count": 2,
   "id": "d8353746-4f5f-45ef-8091-5f4949972014",
   "metadata": {},
   "outputs": [],
   "source": [
    "SUBS_URL = \"https://api.planet.com/auth/v1/experimental/public/my/subscriptions\""
   ]
  },
  {
   "cell_type": "code",
   "execution_count": 8,
   "id": "8f94fde0-1649-4be9-b289-a5abf2bc2f6e",
   "metadata": {},
   "outputs": [],
   "source": [
    "api_key = os.environ[\"PLANET_API_KEY\"]\n",
    "# api_key = \"\""
   ]
  },
  {
   "cell_type": "code",
   "execution_count": 9,
   "id": "ba6bf9a7-b2ad-429a-bff5-2b884fb30ae3",
   "metadata": {},
   "outputs": [],
   "source": [
    "planetlab = Planetlab(api_key)"
   ]
  },
  {
   "cell_type": "code",
   "execution_count": 10,
   "id": "363c48ae-452d-46a6-bdc1-64ba0b8ac294",
   "metadata": {},
   "outputs": [
    {
     "data": {
      "text/plain": [
       "True"
      ]
     },
     "execution_count": 10,
     "metadata": {},
     "output_type": "execute_result"
    }
   ],
   "source": [
    "planetlab.active"
   ]
  },
  {
   "cell_type": "code",
   "execution_count": 12,
   "id": "b37f3950-3fb1-42ea-aef1-23fb7e13b40c",
   "metadata": {},
   "outputs": [],
   "source": [
    "planetlab = Planetlab(\"wrongkey\")\n",
    "planetlab._is_active()\n",
    "assert planetlab.active is False"
   ]
  },
  {
   "cell_type": "code",
   "execution_count": null,
   "id": "34a9fd1c-d8da-4497-bf9e-279de89f6fe4",
   "metadata": {},
   "outputs": [],
   "source": []
  }
 ],
 "metadata": {
  "kernelspec": {
   "display_name": "Python 3",
   "language": "python",
   "name": "python3"
  },
  "language_info": {
   "codemirror_mode": {
    "name": "ipython",
    "version": 3
   },
   "file_extension": ".py",
   "mimetype": "text/x-python",
   "name": "python",
   "nbconvert_exporter": "python",
   "pygments_lexer": "ipython3",
   "version": "3.8.10"
  }
 },
 "nbformat": 4,
 "nbformat_minor": 5
}
