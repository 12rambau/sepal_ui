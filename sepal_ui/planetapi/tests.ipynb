{
 "cells": [
  {
   "cell_type": "code",
   "execution_count": 1,
   "id": "614d40b2-3e5c-46eb-a26a-b5f75af3149d",
   "metadata": {
    "tags": []
   },
   "outputs": [
    {
     "data": {
      "application/vnd.jupyter.widget-view+json": {
       "model_id": "a719c83b21014b999073ba5cfe8ce719",
       "version_major": 2,
       "version_minor": 0
      },
      "text/plain": [
       "Styles()"
      ]
     },
     "metadata": {},
     "output_type": "display_data"
    },
    {
     "data": {
      "application/vnd.jupyter.widget-view+json": {
       "model_id": "ec1fabb2545e49f090d41b315cd613b4",
       "version_major": 2,
       "version_minor": 0
      },
      "text/plain": [
       "ResizeTrigger()"
      ]
     },
     "metadata": {},
     "output_type": "display_data"
    }
   ],
   "source": [
    "import os\n",
    "import ipyvuetify as v\n",
    "from traitlets import Bool, observe\n",
    "import sepal_ui.sepalwidgets as sw\n",
    "from planet import api\n",
    "from planet.api import APIException\n",
    "from planet.api.client import InvalidIdentity\n",
    "from planet_model import PlanetModel\n",
    "from planet_view import PlanetView\n",
    "# from planet_view import *"
   ]
  },
  {
   "cell_type": "code",
   "execution_count": 2,
   "id": "8f94fde0-1649-4be9-b289-a5abf2bc2f6e",
   "metadata": {},
   "outputs": [
    {
     "data": {
      "text/plain": [
       "'c1e9e7fa36074be89d6f28301cd9502a'"
      ]
     },
     "execution_count": 2,
     "metadata": {},
     "output_type": "execute_result"
    }
   ],
   "source": [
    "api_key = os.getenv(\"PLANET_API_KEY\")\n",
    "username = \"jvgr2006@gmail.com\"\n",
    "password = \"011569*aSDF\"\n",
    "credentials = (username, password)\n",
    "bad_credentials = (\"jvgr2006@gmail.com\", \"asdf\")\n",
    "SUBS_URL = \"https://api.planet.com/auth/v1/experimental/public/my/subscriptions\"\n",
    "api_key"
   ]
  },
  {
   "cell_type": "code",
   "execution_count": 3,
   "id": "1b1b6312-a23f-4657-b996-fbd86128ebbf",
   "metadata": {},
   "outputs": [
    {
     "ename": "AttributeError",
     "evalue": "'PlanetView' object has no attribute 'set_children'",
     "output_type": "error",
     "traceback": [
      "\u001b[0;31m---------------------------------------------------------------------------\u001b[0m",
      "\u001b[0;31mAttributeError\u001b[0m                            Traceback (most recent call last)",
      "Input \u001b[0;32mIn [3]\u001b[0m, in \u001b[0;36m<cell line: 1>\u001b[0;34m()\u001b[0m\n\u001b[0;32m----> 1\u001b[0m planet_view \u001b[38;5;241m=\u001b[39m \u001b[43mPlanetView\u001b[49m\u001b[43m(\u001b[49m\u001b[43m)\u001b[49m\n\u001b[1;32m      2\u001b[0m planet_view\n",
      "File \u001b[0;32m~/sepal_ui/sepal_ui/planetapi/planet_view.py:79\u001b[0m, in \u001b[0;36mPlanetView.__init__\u001b[0;34m(self, btn, alert, planet_model, *args, **kwargs)\u001b[0m\n\u001b[1;32m     66\u001b[0m w_validation \u001b[38;5;241m=\u001b[39m v\u001b[38;5;241m.\u001b[39mFlex(\n\u001b[1;32m     67\u001b[0m     style_\u001b[38;5;241m=\u001b[39m\u001b[38;5;124m\"\u001b[39m\u001b[38;5;124mflex-grow: 0 !important;\u001b[39m\u001b[38;5;124m\"\u001b[39m,\n\u001b[1;32m     68\u001b[0m     children\u001b[38;5;241m=\u001b[39m[\u001b[38;5;28mself\u001b[39m\u001b[38;5;241m.\u001b[39mbtn,\u001b[38;5;28mself\u001b[39m\u001b[38;5;241m.\u001b[39mw_state], \n\u001b[1;32m     69\u001b[0m     class_\u001b[38;5;241m=\u001b[39m\u001b[38;5;124m\"\u001b[39m\u001b[38;5;124mpr-1\u001b[39m\u001b[38;5;124m\"\u001b[39m\n\u001b[1;32m     70\u001b[0m )\n\u001b[1;32m     72\u001b[0m \u001b[38;5;28mself\u001b[39m\u001b[38;5;241m.\u001b[39mchildren\u001b[38;5;241m=\u001b[39m[\n\u001b[1;32m     73\u001b[0m     v\u001b[38;5;241m.\u001b[39mFlex(children\u001b[38;5;241m=\u001b[39m[\u001b[38;5;28mself\u001b[39m\u001b[38;5;241m.\u001b[39mw_method], sm12\u001b[38;5;241m=\u001b[39m\u001b[38;5;28;01mTrue\u001b[39;00m, md3\u001b[38;5;241m=\u001b[39m\u001b[38;5;28;01mTrue\u001b[39;00m),\n\u001b[1;32m     74\u001b[0m     \u001b[38;5;28mself\u001b[39m\u001b[38;5;241m.\u001b[39mw_username, \n\u001b[1;32m     75\u001b[0m     \u001b[38;5;28mself\u001b[39m\u001b[38;5;241m.\u001b[39mw_password,\n\u001b[1;32m     76\u001b[0m     \u001b[38;5;28mself\u001b[39m\u001b[38;5;241m.\u001b[39mw_key,\n\u001b[1;32m     77\u001b[0m ]\n\u001b[0;32m---> 79\u001b[0m \u001b[38;5;28;01mif\u001b[39;00m \u001b[38;5;129;01mnot\u001b[39;00m btn: \u001b[38;5;28;43mself\u001b[39;49m\u001b[38;5;241;43m.\u001b[39;49m\u001b[43mset_children\u001b[49m(w_validation, \u001b[38;5;124m\"\u001b[39m\u001b[38;5;124mlast\u001b[39m\u001b[38;5;124m\"\u001b[39m)\n\u001b[1;32m     81\u001b[0m \u001b[38;5;28mself\u001b[39m\u001b[38;5;241m.\u001b[39mw_method\u001b[38;5;241m.\u001b[39mobserve(\u001b[38;5;28mself\u001b[39m\u001b[38;5;241m.\u001b[39m_swap_inputs, \u001b[38;5;124m\"\u001b[39m\u001b[38;5;124mv_model\u001b[39m\u001b[38;5;124m\"\u001b[39m)\n\u001b[1;32m     82\u001b[0m \u001b[38;5;28mself\u001b[39m\u001b[38;5;241m.\u001b[39mbtn\u001b[38;5;241m.\u001b[39mon_event(\u001b[38;5;124m\"\u001b[39m\u001b[38;5;124mclick\u001b[39m\u001b[38;5;124m\"\u001b[39m, \u001b[38;5;28mself\u001b[39m\u001b[38;5;241m.\u001b[39mvalidate)\n",
      "\u001b[0;31mAttributeError\u001b[0m: 'PlanetView' object has no attribute 'set_children'"
     ]
    }
   ],
   "source": [
    "planet_view = PlanetView()\n",
    "planet_view"
   ]
  },
  {
   "cell_type": "code",
   "execution_count": null,
   "id": "5ac19ed9-52e2-46e3-9033-4d8129e3ceff",
   "metadata": {},
   "outputs": [],
   "source": [
    "class StateIcon(sw.Tooltip):\n",
    "    \n",
    "    valid = Bool(False).tag(sync=True)\n",
    "    \n",
    "    def __init__(self):\n",
    "        \n",
    "        self.right = True\n",
    "        self.icon = v.Icon(\n",
    "            children=[\"fas fa-circle\"], color=\"red\", small=True\n",
    "        )\n",
    "        \n",
    "        super().__init__(self.icon, \"Not connected\")\n",
    "        \n",
    "    @observe(\"valid\")\n",
    "    def swap(self, change):\n",
    "        \"\"\"Swap between active and deactive mode\"\"\"\n",
    "        \n",
    "        if change[\"new\"]:\n",
    "            self.icon.color = \"green\"\n",
    "            self.children = [\"Connected\"]\n",
    "        else:\n",
    "            self.icon.color = \"red\"\n",
    "            self.children = [\"Not connected\"]\n"
   ]
  },
  {
   "cell_type": "code",
   "execution_count": null,
   "id": "8e469fb2-2eb4-4c25-b477-f84f1f9e1aeb",
   "metadata": {},
   "outputs": [],
   "source": [
    "w_method, w_username, w_password= [v.Select(class_=\"mr-2\")]*3\n",
    "btn = sw.Btn(class_=\"mr-2\")\n",
    "w_state = StateIcon()"
   ]
  },
  {
   "cell_type": "code",
   "execution_count": null,
   "id": "75d4dbea-5277-4ddd-9f21-a513154dfd9c",
   "metadata": {},
   "outputs": [],
   "source": [
    "v.Layout(\n",
    "    class_ = \"flex-wrap align-center justify-space-between d-flex\",\n",
    "    # flex_direction=\"column\",\n",
    "    children=[\n",
    "        v.Flex(children=[w_method], sm12=True, md2=True),\n",
    "        w_username, \n",
    "        w_password,\n",
    "        v.Card(class_=\"pr-1\", children=[btn, w_state])\n",
    "    ]\n",
    ")"
   ]
  },
  {
   "cell_type": "code",
   "execution_count": null,
   "id": "d7630995-b222-428d-a0ea-be90d9f0b065",
   "metadata": {},
   "outputs": [],
   "source": []
  }
 ],
 "metadata": {
  "kernelspec": {
   "display_name": "Python 3",
   "language": "python",
   "name": "python3"
  },
  "language_info": {
   "codemirror_mode": {
    "name": "ipython",
    "version": 3
   },
   "file_extension": ".py",
   "mimetype": "text/x-python",
   "name": "python",
   "nbconvert_exporter": "python",
   "pygments_lexer": "ipython3",
   "version": "3.8.10"
  }
 },
 "nbformat": 4,
 "nbformat_minor": 5
}
