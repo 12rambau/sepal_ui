{
 "cells": [
  {
   "cell_type": "code",
   "execution_count": 18,
   "id": "immediate-record",
   "metadata": {},
   "outputs": [],
   "source": [
    "import os\n",
    "import geopandas as gpd\n",
    "import json\n",
    "\n",
    "from pathlib import Path\n",
    "from traitlets import (\n",
    "    Unicode, link, observe\n",
    ")\n",
    "import ipyvuetify as v\n",
    "import sepal_ui.sepalwidgets as sw\n"
   ]
  },
  {
   "cell_type": "code",
   "execution_count": 31,
   "id": "private-arctic",
   "metadata": {},
   "outputs": [],
   "source": [
    "from sepal_ui.scripts import utils as su\n",
    "from sepal_ui.mapping import mapping as m"
   ]
  },
  {
   "cell_type": "code",
   "execution_count": 94,
   "id": "south-aerospace",
   "metadata": {},
   "outputs": [],
   "source": [
    "class AoiView(v.Card):\n",
    "    \n",
    "    method = Unicode('').tag(sync=True)\n",
    "    country = Unicode('').tag(sync=True)\n",
    "    file = Unicode('').tag(sync=True)\n",
    "    column = Unicode('').tag(sync=True)\n",
    "    field = Unicode('').tag(sync=True)\n",
    "\n",
    "    def __init__(self, map_, *args, **kwargs):\n",
    "        \n",
    "        self.map_=map_\n",
    "        self.methods = self.get_methods()\n",
    "        \n",
    "        w_method = v.Select(\n",
    "            label = 'Select a method',\n",
    "            v_model = self.method,\n",
    "            items = self.get_methods()\n",
    "        )\n",
    "        \n",
    "        w_countries = v.Select(\n",
    "            label=\"Select country\",\n",
    "            v_model='',\n",
    "            items=self.get_countries(),\n",
    "        )\n",
    "        btn_use_country = sw.Btn('Select country')\n",
    "        \n",
    "        w_column = v.Select(\n",
    "            label=\"Filter by column\",\n",
    "            v_model=self.column,\n",
    "            items=[]\n",
    "        )\n",
    "        \n",
    "        w_field = v.Select(\n",
    "            label=\"Select field\",\n",
    "            v_model=self.field,\n",
    "            items=[]\n",
    "        )\n",
    "        \n",
    "        w_shape_input = sw.FileInput(['.shp'], os.getcwd())\n",
    "        btn_use_file = sw.Btn('Select country')\n",
    "        \n",
    "        self.components = {\n",
    "            'Country' : self.w_countries,\n",
    "            'Upload shapefile' : self.w_shape_input\n",
    "        }\n",
    "        \n",
    "        self.hide_components()\n",
    "        \n",
    "        super().__init__(*args, **kwargs)\n",
    "        \n",
    "        \n",
    "        # Link traits\n",
    "        link((self, 'method'),(w_method, 'v_model'))\n",
    "        link((self, 'country'),(w_countries, 'v_model'))\n",
    "        link((self, 'file'),(w_shape_input, 'file'))\n",
    "        link((self, 'column'),(w_column, 'v_model'))\n",
    "        link((self, 'field'),(w_field, 'v_model'))\n",
    "        \n",
    "        # Events\n",
    "        btn_use_country.on_event('click', self.add_filter_widget)\n",
    "        btn_use_file.on_event('click', self.add_filter_widget)\n",
    "        \n",
    "        self.children=[\n",
    "            w_method,\n",
    "            self.w_countries,\n",
    "            self.w_shape_input,\n",
    "        ]\n",
    "        \n",
    "    def add_filter_widget(self):\n",
    "        \"\"\"Add column and field filter after selecting a dataset\"\"\"\n",
    "        \n",
    "        # Almost all datasets are composed by more than one feature(geometry)\n",
    "        # this function will allow only select one (or more?) geometries.\n",
    "        \n",
    "        \n",
    "        \n",
    "    def hide_components(self):\n",
    "        \"\"\"Hide all possible componentes\"\"\"\n",
    "        \n",
    "        for component in self.components.values():\n",
    "            su.hide_component(component)\n",
    "        \n",
    "    def get_methods(self):\n",
    "        \"\"\"Handle which methods are displayed in select widget\"\"\"\n",
    "        \n",
    "        return ['Draw on map', 'Country', 'Upload shapefile']\n",
    "    \n",
    "    def get_countries(self):\n",
    "        \"\"\"Create a list of countries\"\"\"\n",
    "        \n",
    "        return list(range(10))\n",
    "    \n",
    "    @observe('method')\n",
    "    def aoi_method_event(self, change):\n",
    "        \n",
    "        method = change['new']\n",
    "        self.hide_components()\n",
    "        \n",
    "        if method == 'Draw on map':\n",
    "            self.map_.show_dc()\n",
    "        else:\n",
    "            self.map_.hide_dc()\n",
    "            su.show_component(self.components[method])"
   ]
  },
  {
   "cell_type": "code",
   "execution_count": 95,
   "id": "intensive-great",
   "metadata": {},
   "outputs": [],
   "source": [
    "w_shape_input = sw.FileInput(['.shp'], os.getcwd())"
   ]
  },
  {
   "cell_type": "code",
   "execution_count": 96,
   "id": "incorrect-cowboy",
   "metadata": {},
   "outputs": [],
   "source": [
    "# map_=m.SepalMap()"
   ]
  },
  {
   "cell_type": "code",
   "execution_count": 97,
   "id": "equipped-government",
   "metadata": {},
   "outputs": [],
   "source": [
    "# aoi_model = AoiModel()"
   ]
  },
  {
   "cell_type": "code",
   "execution_count": 98,
   "id": "known-partition",
   "metadata": {},
   "outputs": [
    {
     "data": {
      "application/vnd.jupyter.widget-view+json": {
       "model_id": "b3944a0866094e5a8e5a26d77ee562da",
       "version_major": 2,
       "version_minor": 0
      },
      "text/plain": [
       "AoiView(children=[Select(items=['Draw on map', 'Select country', 'Upload shapefile'], label='Select a method',…"
      ]
     },
     "metadata": {},
     "output_type": "display_data"
    }
   ],
   "source": [
    "AoiView(map_=map_)"
   ]
  },
  {
   "cell_type": "code",
   "execution_count": 16,
   "id": "loaded-extreme",
   "metadata": {},
   "outputs": [],
   "source": [
    "class AoiModel:\n",
    "    \n",
    "    shapefile = Unicode('').tag(sync=True)\n",
    "    \n",
    "    def __init__(self, aoi, **kwargs):\n",
    "    \n",
    "        self.aoi = aoi\n",
    "        self.gdf = None\n",
    "        \n",
    "        super().__init__(**kwargs)\n",
    "        \n",
    "        # Parameters\n",
    "        self.out_path = Path('')\n",
    "        self.json_path = None\n",
    "        \n",
    "        # Widgets\n",
    "        \n",
    "        self.w_state_bar = sw.StateBar(loading=False) if not statebar else statebar\n",
    "        \n",
    "        # Link behaviours \n",
    "        \n",
    "        link((self.shape_input, 'file'), (self, 'shapefile'))\n",
    "        \n",
    "        # View\n",
    "        \n",
    "        self.children=[\n",
    "            v.Layout(row=True, children=[\n",
    "                self.shape_input,\n",
    "            ])\n",
    "        ]\n",
    "        \n",
    "        # Add a statebar if there is not provided an external one\n",
    "        if not statebar: self.children = self.children + [self.w_state_bar]\n",
    "\n",
    "    @observe('shapefile')\n",
    "    def shape_to_geojson(self, change):\n",
    "        \"\"\" Converts shapefile into Json file\"\"\"\n",
    "        \n",
    "        shp_file_path = Path(self.shapefile)\n",
    "        if shp_file_path.suffix == '.shp':\n",
    "\n",
    "            self.gdf = gpd.read_file(str(shp_file_path))\n",
    "            self.gdf = self.gdf.to_crs(\"EPSG:4326\")\n",
    "            \n",
    "            self.json_path = shp_file_path.parent/f'{shp_file_path.stem}.geojson'\n",
    "            \n",
    "            if not self.json_path.exists():\n",
    "                self.w_state_bar.add_msg('Converting shape to GeoJSON', loading=False)\n",
    "                self.gdf.to_file(str(self.json_path), driver='GeoJSON')\n",
    "                self.w_state_bar.add_msg('Done', loading=True)\n",
    "            else:\n",
    "                self.w_state_bar.add_msg('Geojson file already created', loading=False)\n",
    "                \n",
    "    def get_ipyleaflet_geojson(self):\n",
    "        \"\"\"Returns GeoJSON ipyleaflet object from Json file\"\"\"\n",
    "        \n",
    "        if self.json_path:\n",
    "            self.w_state_bar.add_msg('Converting shape to GeoJSON', loading=False)\n",
    "            with open(self.json_path) as f:\n",
    "                data = json.load(f)        \n",
    "                ipygeojson = GeoJSON(\n",
    "                    data=data,\n",
    "                    name=self.json_path.stem, \n",
    "                    style={'color': 'green', 'fillOpacity': 0, 'weight': 3})\n",
    "\n",
    "            self.w_state_bar.add_msg('Done', loading=True)\n",
    "        \n",
    "            return ipygeojson\n",
    "        else:\n",
    "            self.w_state_bar.add_msg('There is not a shapefile selected.', loading=False)"
   ]
  },
  {
   "cell_type": "code",
   "execution_count": 17,
   "id": "alternate-explorer",
   "metadata": {},
   "outputs": [
    {
     "data": {
      "application/vnd.jupyter.widget-view+json": {
       "model_id": "f1af5ac5dc4d4a06b59455276bc590a1",
       "version_major": 2,
       "version_minor": 0
      },
      "text/plain": [
       "AOI(children=[Layout(children=[FileInput(children=[Btn(children=[Icon(children=['mdi-cached'])], color='primar…"
      ]
     },
     "metadata": {},
     "output_type": "display_data"
    }
   ],
   "source": [
    "AOI()"
   ]
  }
 ],
 "metadata": {
  "kernelspec": {
   "display_name": "Python 3",
   "language": "python",
   "name": "python3"
  },
  "language_info": {
   "codemirror_mode": {
    "name": "ipython",
    "version": 3
   },
   "file_extension": ".py",
   "mimetype": "text/x-python",
   "name": "python",
   "nbconvert_exporter": "python",
   "pygments_lexer": "ipython3",
   "version": "3.6.9"
  }
 },
 "nbformat": 4,
 "nbformat_minor": 5
}
