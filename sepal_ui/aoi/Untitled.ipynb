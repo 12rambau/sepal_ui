{
 "cells": [
  {
   "cell_type": "code",
   "execution_count": 3,
   "id": "8ab04508-9ea5-4565-b0a6-8fd40cfdee01",
   "metadata": {},
   "outputs": [
    {
     "data": {
      "text/plain": [
       "7"
      ]
     },
     "execution_count": 3,
     "metadata": {},
     "output_type": "execute_result"
    }
   ],
   "source": [
    "a = 0\n",
    "b = 7\n",
    "\n",
    "a or b"
   ]
  },
  {
   "cell_type": "code",
   "execution_count": null,
   "id": "1c0b468e-e3df-426a-8eff-1eb6ad731326",
   "metadata": {},
   "outputs": [],
   "source": []
  }
 ],
 "metadata": {
  "kernelspec": {
   "display_name": "Python 3",
   "language": "python",
   "name": "python3"
  },
  "language_info": {
   "codemirror_mode": {
    "name": "ipython",
    "version": 3
   },
   "file_extension": ".py",
   "mimetype": "text/x-python",
   "name": "python",
   "nbconvert_exporter": "python",
   "pygments_lexer": "ipython3",
   "version": "3.8.10"
  }
 },
 "nbformat": 4,
 "nbformat_minor": 5
}
