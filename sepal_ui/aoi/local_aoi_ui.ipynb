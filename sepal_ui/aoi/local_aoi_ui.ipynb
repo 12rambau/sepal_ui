{
 "cells": [
  {
   "cell_type": "code",
   "execution_count": null,
   "id": "ff82a9cc",
   "metadata": {},
   "outputs": [],
   "source": [
    "from sepal_ui.mapping import mapping as m\n",
    "from local_aoi import *"
   ]
  },
  {
   "cell_type": "code",
   "execution_count": null,
   "id": "73e0af20",
   "metadata": {},
   "outputs": [],
   "source": [
    "#map_=m.SepalMap(dc=True)"
   ]
  },
  {
   "cell_type": "code",
   "execution_count": null,
   "id": "e8f64b38",
   "metadata": {},
   "outputs": [],
   "source": [
    "#aoi_view = AoiView(methods=['ADMIN0','POINTS', 'DRAW'])\n",
    "aoi_view = AoiView()\n",
    "aoi_view"
   ]
  },
  {
   "cell_type": "code",
   "execution_count": null,
   "id": "3d28b97d",
   "metadata": {},
   "outputs": [],
   "source": [
    "if type(aoi_view.model.gdf) != type(None):\n",
    "    aoi_view.model.gdf.plot()"
   ]
  },
  {
   "cell_type": "code",
   "execution_count": null,
   "id": "1b6fc1b3",
   "metadata": {},
   "outputs": [],
   "source": [
    "#aoi_tile = AoiTile()\n",
    "#aoi_tile"
   ]
  },
  {
   "cell_type": "code",
   "execution_count": null,
   "id": "4491b0b7",
   "metadata": {},
   "outputs": [],
   "source": [
    "#from sepal_ui import sepalwidgets as sw \n",
    "#alert = sw.Alert()\n",
    "#aoi_model = AoiModel(alert, default_admin='ALB.2_1')\n",
    "#print(aoi_model.name)\n",
    "#aoi_model.gdf.plot() # you should see the Dibër region of albania"
   ]
  },
  {
   "cell_type": "code",
   "execution_count": null,
   "id": "919312c5",
   "metadata": {},
   "outputs": [],
   "source": [
    "#from pathlib import Path\n",
    "#\n",
    "#albania_level_2 = Path('~','tmp','GADM', 'gadm36_ALB.gpkg').expanduser()\n",
    "#aoi_2 = AoiModel(alert, default_vector=albania_level_2)\n",
    "#print(aoi_2.name)\n",
    "#aoi_2.gdf.plot() # you should see the all albania"
   ]
  },
  {
   "cell_type": "code",
   "execution_count": null,
   "id": "a2b6c348",
   "metadata": {},
   "outputs": [],
   "source": []
  }
 ],
 "metadata": {
  "kernelspec": {
   "display_name": "Python 3",
   "language": "python",
   "name": "python3"
  },
  "language_info": {
   "codemirror_mode": {
    "name": "ipython",
    "version": 3
   },
   "file_extension": ".py",
   "mimetype": "text/x-python",
   "name": "python",
   "nbconvert_exporter": "python",
   "pygments_lexer": "ipython3",
   "version": "3.6.9"
  }
 },
 "nbformat": 4,
 "nbformat_minor": 5
}
