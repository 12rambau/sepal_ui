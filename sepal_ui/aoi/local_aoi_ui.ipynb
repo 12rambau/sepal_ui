{
 "cells": [
  {
   "cell_type": "code",
   "execution_count": null,
   "id": "4c44162c",
   "metadata": {},
   "outputs": [],
   "source": [
    "from sepal_ui.mapping import mapping as m\n",
    "from local_aoi import *"
   ]
  },
  {
   "cell_type": "code",
   "execution_count": null,
   "id": "d2712e52",
   "metadata": {},
   "outputs": [],
   "source": [
    "map_=m.SepalMap(dc=True)"
   ]
  },
  {
   "cell_type": "code",
   "execution_count": null,
   "id": "75c31504",
   "metadata": {},
   "outputs": [],
   "source": [
    "aoi_view = AoiView(map_=map_)"
   ]
  },
  {
   "cell_type": "code",
   "execution_count": null,
   "id": "119452a7",
   "metadata": {},
   "outputs": [],
   "source": [
    "aoi_tile = AoiTile()"
   ]
  },
  {
   "cell_type": "code",
   "execution_count": null,
   "id": "1a660724",
   "metadata": {},
   "outputs": [],
   "source": [
    "aoi_tile"
   ]
  },
  {
   "cell_type": "code",
   "execution_count": null,
   "id": "1cb421bd",
   "metadata": {},
   "outputs": [],
   "source": [
    "from sepal_ui import sepalwidgets as sw \n",
    "alert = sw.Alert()\n",
    "aoi_model = AoiModel(alert, default_admin='ALB.2_1')\n",
    "aoi_model.gdf.plot() # you should see the Dibër region of albania"
   ]
  },
  {
   "cell_type": "code",
   "execution_count": null,
   "id": "c2598bf4",
   "metadata": {},
   "outputs": [],
   "source": [
    "from pathlib import Path\n",
    "\n",
    "albania_level_2 = Path('~','tmp','GADM', 'gadm36_ALB.gpkg').expanduser()\n",
    "aoi_2 = AoiModel(alert, default_vector=albania_level_2)\n",
    "aoi_2.gdf.plot() # you should see the all albania"
   ]
  },
  {
   "cell_type": "code",
   "execution_count": null,
   "id": "c41b6a2a",
   "metadata": {},
   "outputs": [],
   "source": []
  }
 ],
 "metadata": {
  "kernelspec": {
   "display_name": "Python 3",
   "language": "python",
   "name": "python3"
  },
  "language_info": {
   "codemirror_mode": {
    "name": "ipython",
    "version": 3
   },
   "file_extension": ".py",
   "mimetype": "text/x-python",
   "name": "python",
   "nbconvert_exporter": "python",
   "pygments_lexer": "ipython3",
   "version": "3.6.9"
  }
 },
 "nbformat": 4,
 "nbformat_minor": 5
}
