{
 "cells": [
  {
   "cell_type": "code",
   "execution_count": 1,
   "id": "14209ecd",
   "metadata": {},
   "outputs": [
    {
     "data": {
      "application/vnd.jupyter.widget-view+json": {
       "model_id": "c1bcdbf39e42472fb8d436e471e6041e",
       "version_major": 2,
       "version_minor": 0
      },
      "text/plain": [
       "Styles()"
      ]
     },
     "metadata": {},
     "output_type": "display_data"
    },
    {
     "data": {
      "application/vnd.jupyter.widget-view+json": {
       "model_id": "9717db0ada2e4bcdbbbb7ecf889ff084",
       "version_major": 2,
       "version_minor": 0
      },
      "text/plain": [
       "ResizeTrigger()"
      ]
     },
     "metadata": {},
     "output_type": "display_data"
    }
   ],
   "source": [
    "from sepal_ui.mapping import mapping as m\n",
    "from local_aoi import *"
   ]
  },
  {
   "cell_type": "code",
   "execution_count": 2,
   "id": "7695e382",
   "metadata": {},
   "outputs": [],
   "source": [
    "#map_=m.SepalMap(dc=True)"
   ]
  },
  {
   "cell_type": "code",
   "execution_count": 5,
   "id": "b95be352",
   "metadata": {},
   "outputs": [
    {
     "data": {
      "application/vnd.jupyter.widget-view+json": {
       "model_id": "39c438bdd7ee450bb2d4372ffd68960f",
       "version_major": 2,
       "version_minor": 0
      },
      "text/plain": [
       "AoiView(children=[MethodSelect(dense=True, items=[{'header': 'admin'}, {'text': 'admin 0', 'value': 'ADMIN0'},…"
      ]
     },
     "metadata": {},
     "output_type": "display_data"
    }
   ],
   "source": [
    "#aoi_view = AoiView(methods=['ADMIN0','POINTS', 'DRAW'])\n",
    "aoi_view = AoiView()\n",
    "aoi_view"
   ]
  },
  {
   "cell_type": "code",
   "execution_count": 7,
   "id": "8b74b2b6",
   "metadata": {},
   "outputs": [],
   "source": [
    "if aoi_view.model.gdf:\n",
    "    aoi_view.model.gdf.plot()"
   ]
  },
  {
   "cell_type": "code",
   "execution_count": null,
   "id": "d9566d57",
   "metadata": {},
   "outputs": [],
   "source": [
    "#aoi_tile = AoiTile()\n",
    "#aoi_tile"
   ]
  },
  {
   "cell_type": "code",
   "execution_count": null,
   "id": "5b3af5d7",
   "metadata": {},
   "outputs": [],
   "source": [
    "#from sepal_ui import sepalwidgets as sw \n",
    "#alert = sw.Alert()\n",
    "#aoi_model = AoiModel(alert, default_admin='ALB.2_1')\n",
    "#print(aoi_model.name)\n",
    "#aoi_model.gdf.plot() # you should see the Dibër region of albania"
   ]
  },
  {
   "cell_type": "code",
   "execution_count": null,
   "id": "ba051c88",
   "metadata": {},
   "outputs": [],
   "source": [
    "#from pathlib import Path\n",
    "#\n",
    "#albania_level_2 = Path('~','tmp','GADM', 'gadm36_ALB.gpkg').expanduser()\n",
    "#aoi_2 = AoiModel(alert, default_vector=albania_level_2)\n",
    "#print(aoi_2.name)\n",
    "#aoi_2.gdf.plot() # you should see the all albania"
   ]
  },
  {
   "cell_type": "code",
   "execution_count": null,
   "id": "a32e3e8b",
   "metadata": {},
   "outputs": [],
   "source": []
  }
 ],
 "metadata": {
  "kernelspec": {
   "display_name": "Python 3",
   "language": "python",
   "name": "python3"
  },
  "language_info": {
   "codemirror_mode": {
    "name": "ipython",
    "version": 3
   },
   "file_extension": ".py",
   "mimetype": "text/x-python",
   "name": "python",
   "nbconvert_exporter": "python",
   "pygments_lexer": "ipython3",
   "version": "3.6.9"
  }
 },
 "nbformat": 4,
 "nbformat_minor": 5
}
