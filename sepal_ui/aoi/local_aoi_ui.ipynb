{
 "cells": [
  {
   "cell_type": "code",
   "execution_count": 1,
   "id": "e4687397",
   "metadata": {},
   "outputs": [
    {
     "data": {
      "application/vnd.jupyter.widget-view+json": {
       "model_id": "6a21197d89614e07b96fc11ae9364ce7",
       "version_major": 2,
       "version_minor": 0
      },
      "text/plain": [
       "Styles()"
      ]
     },
     "metadata": {},
     "output_type": "display_data"
    },
    {
     "data": {
      "application/vnd.jupyter.widget-view+json": {
       "model_id": "3ea7b202fc8b4ce78e1f4359d184cfbd",
       "version_major": 2,
       "version_minor": 0
      },
      "text/plain": [
       "ResizeTrigger()"
      ]
     },
     "metadata": {},
     "output_type": "display_data"
    }
   ],
   "source": [
    "from sepal_ui.mapping import mapping as m\n",
    "from local_aoi import *"
   ]
  },
  {
   "cell_type": "code",
   "execution_count": 2,
   "id": "ba20b6ee",
   "metadata": {},
   "outputs": [],
   "source": [
    "map_=m.SepalMap(dc=True)\n",
    "map_.layout.height='200px'\n",
    "# map_.show_dc();"
   ]
  },
  {
   "cell_type": "code",
   "execution_count": 3,
   "id": "fdc5d96d",
   "metadata": {},
   "outputs": [],
   "source": [
    "aoi_view = AoiView(map_=map_)"
   ]
  },
  {
   "cell_type": "code",
   "execution_count": 4,
   "id": "5a5041ff",
   "metadata": {},
   "outputs": [
    {
     "data": {
      "application/vnd.jupyter.widget-view+json": {
       "model_id": "f823a58ff33543b4b8b05010c11def05",
       "version_major": 2,
       "version_minor": 0
      },
      "text/plain": [
       "AoiView(children=[Alert(class_='d-none', text=True, type='info'), Select(items=['Draw on map', 'Country', 'Upl…"
      ]
     },
     "metadata": {},
     "output_type": "display_data"
    }
   ],
   "source": [
    "aoi_view"
   ]
  },
  {
   "cell_type": "code",
   "execution_count": 5,
   "id": "37385efd",
   "metadata": {
    "scrolled": false
   },
   "outputs": [
    {
     "data": {
      "application/vnd.jupyter.widget-view+json": {
       "model_id": "883798c3e9b441ddbf73b38441a33e2a",
       "version_major": 2,
       "version_minor": 0
      },
      "text/plain": [
       "SepalMap(center=[0, 0], controls=(ZoomControl(options=['position', 'zoom_in_text', 'zoom_in_title', 'zoom_out_…"
      ]
     },
     "metadata": {},
     "output_type": "display_data"
    }
   ],
   "source": [
    "map_"
   ]
  },
  {
   "cell_type": "code",
   "execution_count": 10,
   "id": "74176828",
   "metadata": {},
   "outputs": [
    {
     "data": {
      "text/plain": [
       "5.875269586350004"
      ]
     },
     "execution_count": 10,
     "metadata": {},
     "output_type": "execute_result"
    }
   ],
   "source": [
    "aoi_view.model.gdf.iloc[0].geometry.area"
   ]
  }
 ],
 "metadata": {
  "kernelspec": {
   "display_name": "Python 3",
   "language": "python",
   "name": "python3"
  },
  "language_info": {
   "codemirror_mode": {
    "name": "ipython",
    "version": 3
   },
   "file_extension": ".py",
   "mimetype": "text/x-python",
   "name": "python",
   "nbconvert_exporter": "python",
   "pygments_lexer": "ipython3",
   "version": "3.6.9"
  }
 },
 "nbformat": 4,
 "nbformat_minor": 5
}
