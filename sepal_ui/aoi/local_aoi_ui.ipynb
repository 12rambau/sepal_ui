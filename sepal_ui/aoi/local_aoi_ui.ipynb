{
 "cells": [
  {
   "cell_type": "code",
   "execution_count": 1,
   "id": "345ff5a0",
   "metadata": {},
   "outputs": [
    {
     "data": {
      "application/vnd.jupyter.widget-view+json": {
       "model_id": "281a56f91e4e42408a4b48e69192b3a9",
       "version_major": 2,
       "version_minor": 0
      },
      "text/plain": [
       "Styles()"
      ]
     },
     "metadata": {},
     "output_type": "display_data"
    },
    {
     "data": {
      "application/vnd.jupyter.widget-view+json": {
       "model_id": "88c7be005d3243159ef2dead96d1fd76",
       "version_major": 2,
       "version_minor": 0
      },
      "text/plain": [
       "ResizeTrigger()"
      ]
     },
     "metadata": {},
     "output_type": "display_data"
    }
   ],
   "source": [
    "from sepal_ui.mapping import mapping as m\n",
    "from local_aoi import *"
   ]
  },
  {
   "cell_type": "code",
   "execution_count": 2,
   "id": "1cd85406",
   "metadata": {},
   "outputs": [],
   "source": [
    "#map_=m.SepalMap(dc=True, ee=False)"
   ]
  },
  {
   "cell_type": "code",
   "execution_count": 3,
   "id": "837b2a6e",
   "metadata": {},
   "outputs": [],
   "source": [
    "#aoi_view = AoiView(methods=['ADMIN0','POINTS', 'DRAW'])\n",
    "#aoi_view = AoiView()\n",
    "#aoi_view"
   ]
  },
  {
   "cell_type": "code",
   "execution_count": 4,
   "id": "ce43f4ef",
   "metadata": {},
   "outputs": [],
   "source": [
    "#if type(aoi_view.model.gdf) != type(None):\n",
    "#    aoi_view.model.gdf.plot()"
   ]
  },
  {
   "cell_type": "code",
   "execution_count": 5,
   "id": "53a64e9d",
   "metadata": {
    "scrolled": false
   },
   "outputs": [
    {
     "data": {
      "application/vnd.jupyter.widget-view+json": {
       "model_id": "603a341d35784f88b95935ae2032d256",
       "version_major": 2,
       "version_minor": 0
      },
      "text/plain": [
       "AoiTile(align_center=True, children=[Card(children=[Html(children=['Select AOI'], tag='h2'), Flex(children=[La…"
      ]
     },
     "metadata": {},
     "output_type": "display_data"
    }
   ],
   "source": [
    "aoi_tile = AoiTile()\n",
    "aoi_tile"
   ]
  },
  {
   "cell_type": "code",
   "execution_count": 6,
   "id": "f414e48e",
   "metadata": {},
   "outputs": [],
   "source": [
    "if type(aoi_tile.aoi_view.model.gdf) != type(None):\n",
    "    aoi_tile.aoi_view.model.gdf.plot()"
   ]
  },
  {
   "cell_type": "code",
   "execution_count": 7,
   "id": "a9adeb0b",
   "metadata": {},
   "outputs": [],
   "source": [
    "#from sepal_ui import sepalwidgets as sw \n",
    "#alert = sw.Alert()\n",
    "#aoi_model = AoiModel(alert, default_admin='ALB.2_1')\n",
    "#print(aoi_model.name)\n",
    "#aoi_model.gdf.plot() # you should see the Dibër region of albania"
   ]
  },
  {
   "cell_type": "code",
   "execution_count": 8,
   "id": "b97403c5",
   "metadata": {},
   "outputs": [],
   "source": [
    "#from pathlib import Path\n",
    "#\n",
    "#albania_level_2 = Path('~','tmp','GADM', 'gadm36_ALB.gpkg').expanduser()\n",
    "#aoi_2 = AoiModel(alert, default_vector=albania_level_2)\n",
    "#print(aoi_2.name)\n",
    "#aoi_2.gdf.plot() # you should see the all albania"
   ]
  },
  {
   "cell_type": "code",
   "execution_count": 9,
   "id": "b3d8bb63",
   "metadata": {},
   "outputs": [],
   "source": [
    "# it will raise an exception if your are not connected to ee \n",
    "#map_ = m.SepalMap(ee=False)\n",
    "#map_.zoom_ee_object('toto')"
   ]
  },
  {
   "cell_type": "code",
   "execution_count": 10,
   "id": "1d2b0526",
   "metadata": {},
   "outputs": [
    {
     "data": {
      "text/plain": [
       "{'_trait_values': {'number': 0},\n",
       " '_trait_notifiers': {},\n",
       " '_trait_validators': {},\n",
       " '_cross_validation_lock': False}"
      ]
     },
     "execution_count": 10,
     "metadata": {},
     "output_type": "execute_result"
    }
   ],
   "source": [
    "from sepal_ui import model\n",
    "from traitlets import Int\n",
    "import json \n",
    "\n",
    "class Toto(model.Model):\n",
    "    \n",
    "    number = Any(0).tag(sync=True)\n",
    "    \n",
    "toto = Toto()\n",
    "toto.__dict__"
   ]
  },
  {
   "cell_type": "code",
   "execution_count": 11,
   "id": "69cc24cf",
   "metadata": {},
   "outputs": [
    {
     "data": {
      "text/plain": [
       "'{\"number\": 1}'"
      ]
     },
     "execution_count": 11,
     "metadata": {},
     "output_type": "execute_result"
    }
   ],
   "source": [
    "toto.number = 1\n",
    "data = json.dumps(toto.export_data())\n",
    "data"
   ]
  },
  {
   "cell_type": "code",
   "execution_count": 12,
   "id": "77d7ccaf",
   "metadata": {},
   "outputs": [
    {
     "data": {
      "text/plain": [
       "1"
      ]
     },
     "execution_count": 12,
     "metadata": {},
     "output_type": "execute_result"
    }
   ],
   "source": [
    "tutu = Toto()\n",
    "tutu.import_data(data)\n",
    "tutu.number"
   ]
  },
  {
   "cell_type": "code",
   "execution_count": 13,
   "id": "0a0e7940",
   "metadata": {},
   "outputs": [
    {
     "data": {
      "text/plain": [
       "['number']"
      ]
     },
     "execution_count": 13,
     "metadata": {},
     "output_type": "execute_result"
    }
   ],
   "source": [
    "tutu.trait_names()"
   ]
  },
  {
   "cell_type": "code",
   "execution_count": null,
   "id": "e6054a5a",
   "metadata": {},
   "outputs": [],
   "source": []
  }
 ],
 "metadata": {
  "kernelspec": {
   "display_name": "Python 3",
   "language": "python",
   "name": "python3"
  },
  "language_info": {
   "codemirror_mode": {
    "name": "ipython",
    "version": 3
   },
   "file_extension": ".py",
   "mimetype": "text/x-python",
   "name": "python",
   "nbconvert_exporter": "python",
   "pygments_lexer": "ipython3",
   "version": "3.6.9"
  }
 },
 "nbformat": 4,
 "nbformat_minor": 5
}
