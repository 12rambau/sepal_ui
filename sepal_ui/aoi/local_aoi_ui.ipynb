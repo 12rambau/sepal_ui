{
 "cells": [
  {
   "cell_type": "code",
   "execution_count": 1,
   "id": "e4687397",
   "metadata": {},
   "outputs": [
    {
     "data": {
      "application/vnd.jupyter.widget-view+json": {
       "model_id": "5e38ef6c2c434133b3f570c1c177fa5f",
       "version_major": 2,
       "version_minor": 0
      },
      "text/plain": [
       "Styles()"
      ]
     },
     "metadata": {},
     "output_type": "display_data"
    },
    {
     "data": {
      "application/vnd.jupyter.widget-view+json": {
       "model_id": "3d86987818624c4486950edf16f4065f",
       "version_major": 2,
       "version_minor": 0
      },
      "text/plain": [
       "ResizeTrigger()"
      ]
     },
     "metadata": {},
     "output_type": "display_data"
    }
   ],
   "source": [
    "from sepal_ui.mapping import mapping as m\n",
    "from local_aoi import *"
   ]
  },
  {
   "cell_type": "code",
   "execution_count": 2,
   "id": "ba20b6ee",
   "metadata": {},
   "outputs": [],
   "source": [
    "map_=m.SepalMap(dc=True)\n",
    "map_.layout.height='200px'\n",
    "# map_.show_dc();"
   ]
  },
  {
   "cell_type": "code",
   "execution_count": 3,
   "id": "41558a73",
   "metadata": {},
   "outputs": [],
   "source": [
    "aoi_view = AoiView(map_=map_)"
   ]
  },
  {
   "cell_type": "code",
   "execution_count": 4,
   "id": "5a5041ff",
   "metadata": {},
   "outputs": [
    {
     "data": {
      "application/vnd.jupyter.widget-view+json": {
       "model_id": "a28f174cc4d24d7ea3288fed2a52ca9d",
       "version_major": 2,
       "version_minor": 0
      },
      "text/plain": [
       "AoiView(children=[Alert(class_='d-none', text=True, type='info'), Select(items=['Draw on map', 'Country', 'Upl…"
      ]
     },
     "metadata": {},
     "output_type": "display_data"
    }
   ],
   "source": [
    "aoi_view"
   ]
  },
  {
   "cell_type": "code",
   "execution_count": 5,
   "id": "37385efd",
   "metadata": {
    "scrolled": false
   },
   "outputs": [
    {
     "data": {
      "application/vnd.jupyter.widget-view+json": {
       "model_id": "442861aae4f44caa9267522033a4d578",
       "version_major": 2,
       "version_minor": 0
      },
      "text/plain": [
       "SepalMap(center=[0, 0], controls=(ZoomControl(options=['position', 'zoom_in_text', 'zoom_in_title', 'zoom_out_…"
      ]
     },
     "metadata": {},
     "output_type": "display_data"
    }
   ],
   "source": [
    "map_"
   ]
  }
 ],
 "metadata": {
  "kernelspec": {
   "display_name": "Python 3",
   "language": "python",
   "name": "python3"
  },
  "language_info": {
   "codemirror_mode": {
    "name": "ipython",
    "version": 3
   },
   "file_extension": ".py",
   "mimetype": "text/x-python",
   "name": "python",
   "nbconvert_exporter": "python",
   "pygments_lexer": "ipython3",
   "version": "3.6.9"
  }
 },
 "nbformat": 4,
 "nbformat_minor": 5
}
