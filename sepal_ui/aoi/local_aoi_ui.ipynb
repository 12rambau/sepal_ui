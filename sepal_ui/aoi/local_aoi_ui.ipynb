{
 "cells": [
  {
   "cell_type": "code",
   "execution_count": null,
   "id": "e4687397",
   "metadata": {},
   "outputs": [],
   "source": [
    "from sepal_ui.mapping import mapping as m\n",
    "from local_aoi import *"
   ]
  },
  {
   "cell_type": "code",
   "execution_count": null,
   "id": "ba20b6ee",
   "metadata": {},
   "outputs": [],
   "source": [
    "map_=m.SepalMap(dc=True)"
   ]
  },
  {
   "cell_type": "code",
   "execution_count": null,
   "id": "565edd3a",
   "metadata": {},
   "outputs": [],
   "source": [
    "aoi_view = AoiView(map_=map_)"
   ]
  },
  {
   "cell_type": "code",
   "execution_count": null,
   "id": "55be0c53",
   "metadata": {},
   "outputs": [],
   "source": [
    "v.Card(\n",
    "    class_='d-flex pa-2',\n",
    "    children=[\n",
    "        v.Flex(xs6=True, class_='mr-4', children=[aoi_view]),\n",
    "        v.Flex(children=[map_]),\n",
    "    ]\n",
    ")"
   ]
  }
 ],
 "metadata": {
  "kernelspec": {
   "display_name": "Python 3",
   "language": "python",
   "name": "python3"
  },
  "language_info": {
   "codemirror_mode": {
    "name": "ipython",
    "version": 3
   },
   "file_extension": ".py",
   "mimetype": "text/x-python",
   "name": "python",
   "nbconvert_exporter": "python",
   "pygments_lexer": "ipython3",
   "version": "3.6.9"
  }
 },
 "nbformat": 4,
 "nbformat_minor": 5
}
