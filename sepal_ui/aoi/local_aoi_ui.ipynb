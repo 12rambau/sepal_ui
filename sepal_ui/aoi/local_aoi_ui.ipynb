{
 "cells": [
  {
   "cell_type": "code",
   "execution_count": 1,
   "id": "eae0ad59",
   "metadata": {},
   "outputs": [
    {
     "data": {
      "application/vnd.jupyter.widget-view+json": {
       "model_id": "71110b2adbef4c408e10bf84cd005a8f",
       "version_major": 2,
       "version_minor": 0
      },
      "text/plain": [
       "Styles()"
      ]
     },
     "metadata": {},
     "output_type": "display_data"
    },
    {
     "data": {
      "application/vnd.jupyter.widget-view+json": {
       "model_id": "ff25e03ee5e04af1be81b6ce8923884a",
       "version_major": 2,
       "version_minor": 0
      },
      "text/plain": [
       "ResizeTrigger()"
      ]
     },
     "metadata": {},
     "output_type": "display_data"
    }
   ],
   "source": [
    "from sepal_ui.mapping import mapping as m\n",
    "from local_aoi import *"
   ]
  },
  {
   "cell_type": "code",
   "execution_count": 2,
   "id": "9c8c8028",
   "metadata": {},
   "outputs": [],
   "source": [
    "map_=m.SepalMap(dc=True)"
   ]
  },
  {
   "cell_type": "code",
   "execution_count": 3,
   "id": "f612d1ea",
   "metadata": {},
   "outputs": [
    {
     "data": {
      "application/vnd.jupyter.widget-view+json": {
       "model_id": "d42a6b3c94864154bbd00cbddced81f1",
       "version_major": 2,
       "version_minor": 0
      },
      "text/plain": [
       "AoiView(children=[MethodSelect(dense=True, items=[{'header': 'admin'}, {'text': 'admin 0', 'value': 'ADMIN0'},…"
      ]
     },
     "metadata": {},
     "output_type": "display_data"
    }
   ],
   "source": [
    "aoi_view = AoiView(methods=['ADMIN0','POINTS', 'DRAW'])\n",
    "aoi_view = AoiView()\n",
    "aoi_view"
   ]
  },
  {
   "cell_type": "code",
   "execution_count": 4,
   "id": "b399af2f",
   "metadata": {},
   "outputs": [],
   "source": [
    "aoi_tile = AoiTile()"
   ]
  },
  {
   "cell_type": "code",
   "execution_count": 5,
   "id": "ea210c29",
   "metadata": {},
   "outputs": [
    {
     "data": {
      "application/vnd.jupyter.widget-view+json": {
       "model_id": "1536bc6b36d84ba08860c4068daee96b",
       "version_major": 2,
       "version_minor": 0
      },
      "text/plain": [
       "AoiTile(align_center=True, children=[Card(children=[Html(children=['Select AOI'], tag='h2'), Flex(children=[La…"
      ]
     },
     "metadata": {},
     "output_type": "display_data"
    }
   ],
   "source": [
    "aoi_tile"
   ]
  },
  {
   "cell_type": "code",
   "execution_count": 6,
   "id": "c26b82f5",
   "metadata": {},
   "outputs": [
    {
     "name": "stdout",
     "output_type": "stream",
     "text": [
      "ALB_Diber\n"
     ]
    },
    {
     "name": "stderr",
     "output_type": "stream",
     "text": [
      "/usr/local/lib/python3.6/dist-packages/geopandas/geodataframe.py:577: RuntimeWarning: Sequential read of iterator was interrupted. Resetting iterator. This can negatively impact the performance.\n",
      "  for feature in features_lst:\n"
     ]
    },
    {
     "data": {
      "text/plain": [
       "<AxesSubplot:>"
      ]
     },
     "execution_count": 6,
     "metadata": {},
     "output_type": "execute_result"
    },
    {
     "data": {
      "image/png": "[encoded data removed]",
      "text/plain": [
       "<Figure size 432x288 with 1 Axes>"
      ]
     },
     "metadata": {
      "needs_background": "light"
     },
     "output_type": "display_data"
    }
   ],
   "source": [
    "from sepal_ui import sepalwidgets as sw \n",
    "alert = sw.Alert()\n",
    "aoi_model = AoiModel(alert, default_admin='ALB.2_1')\n",
    "print(aoi_model.name)\n",
    "aoi_model.gdf.plot() # you should see the Dibër region of albania"
   ]
  },
  {
   "cell_type": "code",
   "execution_count": 7,
   "id": "85827174",
   "metadata": {},
   "outputs": [
    {
     "name": "stdout",
     "output_type": "stream",
     "text": [
      "gadm36_ALB\n"
     ]
    },
    {
     "name": "stderr",
     "output_type": "stream",
     "text": [
      "/usr/local/lib/python3.6/dist-packages/geopandas/geodataframe.py:577: RuntimeWarning: Sequential read of iterator was interrupted. Resetting iterator. This can negatively impact the performance.\n",
      "  for feature in features_lst:\n"
     ]
    },
    {
     "data": {
      "text/plain": [
       "<AxesSubplot:>"
      ]
     },
     "execution_count": 7,
     "metadata": {},
     "output_type": "execute_result"
    },
    {
     "data": {
      "image/png": "[encoded data removed]",
      "text/plain": [
       "<Figure size 432x288 with 1 Axes>"
      ]
     },
     "metadata": {
      "needs_background": "light"
     },
     "output_type": "display_data"
    }
   ],
   "source": [
    "from pathlib import Path\n",
    "\n",
    "albania_level_2 = Path('~','tmp','GADM', 'gadm36_ALB.gpkg').expanduser()\n",
    "aoi_2 = AoiModel(alert, default_vector=albania_level_2)\n",
    "print(aoi_2.name)\n",
    "aoi_2.gdf.plot() # you should see the all albania"
   ]
  },
  {
   "cell_type": "code",
   "execution_count": 8,
   "id": "401ba451",
   "metadata": {},
   "outputs": [
    {
     "name": "stdout",
     "output_type": "stream",
     "text": [
      "Help on function open in module fiona:\n",
      "\n",
      "open(fp, mode='r', driver=None, schema=None, crs=None, encoding=None, layer=None, vfs=None, enabled_drivers=None, crs_wkt=None, **kwargs)\n",
      "    Open a collection for read, append, or write\n",
      "    \n",
      "    In write mode, a driver name such as \"ESRI Shapefile\" or \"GPX\" (see\n",
      "    OGR docs or ``ogr2ogr --help`` on the command line) and a schema\n",
      "    mapping such as:\n",
      "    \n",
      "      {'geometry': 'Point',\n",
      "       'properties': [('class', 'int'), ('label', 'str'),\n",
      "                      ('value', 'float')]}\n",
      "    \n",
      "    must be provided. If a particular ordering of properties (\"fields\"\n",
      "    in GIS parlance) in the written file is desired, a list of (key,\n",
      "    value) pairs as above or an ordered dict is required. If no ordering\n",
      "    is needed, a standard dict will suffice.\n",
      "    \n",
      "    A coordinate reference system for collections in write mode can be\n",
      "    defined by the ``crs`` parameter. It takes Proj4 style mappings like\n",
      "    \n",
      "      {'proj': 'longlat', 'ellps': 'WGS84', 'datum': 'WGS84',\n",
      "       'no_defs': True}\n",
      "    \n",
      "    short hand strings like\n",
      "    \n",
      "      EPSG:4326\n",
      "    \n",
      "    or WKT representations of coordinate reference systems.\n",
      "    \n",
      "    The drivers used by Fiona will try to detect the encoding of data\n",
      "    files. If they fail, you may provide the proper ``encoding``, such\n",
      "    as 'Windows-1252' for the Natural Earth datasets.\n",
      "    \n",
      "    When the provided path is to a file containing multiple named layers\n",
      "    of data, a layer can be singled out by ``layer``.\n",
      "    \n",
      "    The drivers enabled for opening datasets may be restricted to those\n",
      "    listed in the ``enabled_drivers`` parameter. This and the ``driver``\n",
      "    parameter afford much control over opening of files.\n",
      "    \n",
      "      # Trying only the GeoJSON driver when opening to read, the\n",
      "      # following raises ``DataIOError``:\n",
      "      fiona.open('example.shp', driver='GeoJSON')\n",
      "    \n",
      "      # Trying first the GeoJSON driver, then the Shapefile driver,\n",
      "      # the following succeeds:\n",
      "      fiona.open(\n",
      "          'example.shp', enabled_drivers=['GeoJSON', 'ESRI Shapefile'])\n",
      "    \n",
      "    Parameters\n",
      "    ----------\n",
      "    fp : URI (str or pathlib.Path), or file-like object\n",
      "        A dataset resource identifier or file object.\n",
      "    mode : str\n",
      "        One of 'r', to read (the default); 'a', to append; or 'w', to\n",
      "        write.\n",
      "    driver : str\n",
      "        In 'w' mode a format driver name is required. In 'r' or 'a'\n",
      "        mode this parameter has no effect.\n",
      "    schema : dict\n",
      "        Required in 'w' mode, has no effect in 'r' or 'a' mode.\n",
      "    crs : str or dict\n",
      "        Required in 'w' mode, has no effect in 'r' or 'a' mode.\n",
      "    encoding : str\n",
      "        Name of the encoding used to encode or decode the dataset.\n",
      "    layer : int or str\n",
      "        The integer index or name of a layer in a multi-layer dataset.\n",
      "    vfs : str\n",
      "        This is a deprecated parameter. A URI scheme such as \"zip://\"\n",
      "        should be used instead.\n",
      "    enabled_drivers : list\n",
      "        An optional list of driver names to used when opening a\n",
      "        collection.\n",
      "    crs_wkt : str\n",
      "        An optional WKT representation of a coordinate reference\n",
      "        system.\n",
      "    kwargs : mapping\n",
      "        Other driver-specific parameters that will be interpreted by\n",
      "        the OGR library as layer creation or opening options.\n",
      "    \n",
      "    Returns\n",
      "    -------\n",
      "    Collection\n",
      "\n"
     ]
    }
   ],
   "source": [
    "import fiona; help(fiona.open)"
   ]
  },
  {
   "cell_type": "code",
   "execution_count": null,
   "id": "a01df8f1",
   "metadata": {},
   "outputs": [],
   "source": []
  }
 ],
 "metadata": {
  "kernelspec": {
   "display_name": "Python 3",
   "language": "python",
   "name": "python3"
  },
  "language_info": {
   "codemirror_mode": {
    "name": "ipython",
    "version": 3
   },
   "file_extension": ".py",
   "mimetype": "text/x-python",
   "name": "python",
   "nbconvert_exporter": "python",
   "pygments_lexer": "ipython3",
   "version": "3.6.9"
  }
 },
 "nbformat": 4,
 "nbformat_minor": 5
}
