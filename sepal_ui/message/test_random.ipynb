{
 "cells": [
  {
   "cell_type": "code",
   "execution_count": 1,
   "id": "6bad1cc0-231c-4d23-b649-b051429120bd",
   "metadata": {},
   "outputs": [
    {
     "ename": "BoxError",
     "evalue": "Box is frozen",
     "output_type": "error",
     "traceback": [
      "\u001b[0;31m---------------------------------------------------------------------------\u001b[0m",
      "\u001b[0;31mBoxError\u001b[0m                                  Traceback (most recent call last)",
      "Input \u001b[0;32mIn [1]\u001b[0m, in \u001b[0;36m<cell line: 10>\u001b[0;34m()\u001b[0m\n\u001b[1;32m      6\u001b[0m         \u001b[38;5;28msuper\u001b[39m()\u001b[38;5;241m.\u001b[39m\u001b[38;5;21m__init__\u001b[39m(\u001b[38;5;241m*\u001b[39margs, frozen_box\u001b[38;5;241m=\u001b[39mkwargs\u001b[38;5;241m.\u001b[39mpop(\u001b[38;5;124m\"\u001b[39m\u001b[38;5;124mfrozen_box\u001b[39m\u001b[38;5;124m\"\u001b[39m, \u001b[38;5;28;01mTrue\u001b[39;00m), \u001b[38;5;241m*\u001b[39m\u001b[38;5;241m*\u001b[39mkwargs)\n\u001b[1;32m      8\u001b[0m truc \u001b[38;5;241m=\u001b[39m toto({\u001b[38;5;124m\"\u001b[39m\u001b[38;5;124mvaleur\u001b[39m\u001b[38;5;124m\"\u001b[39m: \u001b[38;5;124m\"\u001b[39m\u001b[38;5;124mme\u001b[39m\u001b[38;5;124m\"\u001b[39m}, frozen_box\u001b[38;5;241m=\u001b[39m\u001b[38;5;28;01mTrue\u001b[39;00m)\n\u001b[0;32m---> 10\u001b[0m truc\u001b[38;5;241m.\u001b[39mvaleur \u001b[38;5;241m=\u001b[39m \u001b[38;5;124m\"\u001b[39m\u001b[38;5;124mtoto\u001b[39m\u001b[38;5;124m\"\u001b[39m\n",
      "File \u001b[0;32m~/.local/lib/python3.8/site-packages/box/box.py:575\u001b[0m, in \u001b[0;36mbox.box.Box.__setattr__\u001b[0;34m()\u001b[0m\n",
      "\u001b[0;31mBoxError\u001b[0m: Box is frozen"
     ]
    }
   ],
   "source": [
    "from box import Box\n",
    "\n",
    "class toto(Box):\n",
    "\n",
    "    def __init__(self, *args, **kwargs):\n",
    "        super().__init__(*args, frozen_box=kwargs.pop(\"frozen_box\", True), **kwargs)\n",
    "\n",
    "truc = toto({\"valeur\": \"me\"}, frozen_box=True)\n",
    "\n",
    "truc.valeur = \"toto\""
   ]
  },
  {
   "cell_type": "code",
   "execution_count": null,
   "id": "d73d1366-ec7e-4efa-9cfd-c3e0cffc0aaf",
   "metadata": {},
   "outputs": [],
   "source": []
  }
 ],
 "metadata": {
  "kernelspec": {
   "display_name": "Python 3",
   "language": "python",
   "name": "python3"
  },
  "language_info": {
   "codemirror_mode": {
    "name": "ipython",
    "version": 3
   },
   "file_extension": ".py",
   "mimetype": "text/x-python",
   "name": "python",
   "nbconvert_exporter": "python",
   "pygments_lexer": "ipython3",
   "version": "3.8.10"
  }
 },
 "nbformat": 4,
 "nbformat_minor": 5
}
