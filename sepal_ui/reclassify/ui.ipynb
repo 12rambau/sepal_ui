{
 "cells": [
  {
   "cell_type": "code",
   "execution_count": null,
   "id": "7e030f6f-7cf5-4daf-b579-e66a3496b2a7",
   "metadata": {},
   "outputs": [],
   "source": [
    "import os \n",
    "\n",
    "os.environ['CUSTOM_LANGUAGE'] = 'en'"
   ]
  },
  {
   "cell_type": "code",
   "execution_count": null,
   "id": "d8a9159f-a73b-4ed7-8ad7-48aef36a1b73",
   "metadata": {},
   "outputs": [],
   "source": [
    "from sepal_ui import reclassify as rec\n",
    "from pathlib import Path"
   ]
  },
  {
   "cell_type": "code",
   "execution_count": null,
   "id": "6b818501-bf9d-46ae-a083-2011f9ef450b",
   "metadata": {},
   "outputs": [],
   "source": [
    "toto = rec.ReclassifyTile(Path.home(), gee=False)\n",
    "toto"
   ]
  },
  {
   "cell_type": "code",
   "execution_count": null,
   "id": "04236fbe-d829-410b-9752-1aa5cc5df913",
   "metadata": {},
   "outputs": [],
   "source": []
  }
 ],
 "metadata": {
  "kernelspec": {
   "display_name": "Python 3",
   "language": "python",
   "name": "python3"
  },
  "language_info": {
   "codemirror_mode": {
    "name": "ipython",
    "version": 3
   },
   "file_extension": ".py",
   "mimetype": "text/x-python",
   "name": "python",
   "nbconvert_exporter": "python",
   "pygments_lexer": "ipython3",
   "version": "3.6.9"
  }
 },
 "nbformat": 4,
 "nbformat_minor": 5
}
