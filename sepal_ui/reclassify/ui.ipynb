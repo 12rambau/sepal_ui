{
 "cells": [
  {
   "cell_type": "code",
   "execution_count": 1,
   "id": "7e030f6f-7cf5-4daf-b579-e66a3496b2a7",
   "metadata": {},
   "outputs": [],
   "source": [
    "import os \n",
    "\n",
    "os.environ['CUSTOM_LANGUAGE'] = 'en'"
   ]
  },
  {
   "cell_type": "code",
   "execution_count": 2,
   "id": "d8a9159f-a73b-4ed7-8ad7-48aef36a1b73",
   "metadata": {},
   "outputs": [
    {
     "data": {
      "application/vnd.jupyter.widget-view+json": {
       "model_id": "e4ae8568041447cc9e89f06e80cab7e8",
       "version_major": 2,
       "version_minor": 0
      },
      "text/plain": [
       "Styles()"
      ]
     },
     "metadata": {},
     "output_type": "display_data"
    }
   ],
   "source": [
    "from sepal_ui import reclassify as rec\n",
    "from pathlib import Path"
   ]
  },
  {
   "cell_type": "code",
   "execution_count": 3,
   "id": "19c6ed59-744f-4df3-bc49-3bde8454b7ba",
   "metadata": {},
   "outputs": [
    {
     "data": {
      "text/plain": [
       "15"
      ]
     },
     "execution_count": 3,
     "metadata": {},
     "output_type": "execute_result"
    }
   ],
   "source": [
    "# create a fake classification file\n",
    "classif1 = Path.home()/'tmp'/'forest.csv'\n",
    "classif1.write_text('45,non-forest,#253049\\n53,forest,#083F19\\n')\n",
    "\n",
    "classif2 = Path.home()/'tmp'/'non_forest.csv'\n",
    "classif2.write_text('32,non-forest,#253049\\n25,forest,#FF0000\\n')\n",
    "\n",
    "classif_clc = Path.home()/'tmp'/'clc3.csv'\n",
    "classif_clc.write_text('1,non-forest,#253049\\n2,forest,#083F19\\n3,other,#083F19\\n')\n",
    "\n",
    "# create a fake matrix file (compatible with clc3class)\n",
    "matrix = Path.home()/'tmp'/'matrix.csv'\n",
    "matrix.write_text('1,53\\n2,45\\n3,53\\n')"
   ]
  },
  {
   "cell_type": "code",
   "execution_count": 4,
   "id": "4474ef36-fbdb-4e71-a164-71e42f5af407",
   "metadata": {},
   "outputs": [],
   "source": [
    "# a public asset to use: \n",
    "# table : users/dafguerrerom/FAO/LULC_2012_AOI\n",
    "# raster : users/bornToBeAlive/clc3class"
   ]
  },
  {
   "cell_type": "code",
   "execution_count": 5,
   "id": "6b818501-bf9d-46ae-a083-2011f9ef450b",
   "metadata": {},
   "outputs": [
    {
     "data": {
      "application/vnd.jupyter.widget-view+json": {
       "model_id": "d48dc455225048798bc5dd1cdfc95eb3",
       "version_major": 2,
       "version_minor": 0
      },
      "text/plain": [
       "ReclassifyTile(align_center=True, children=[Card(children=[Html(children=['Reclassification'], tag='h2'), Flex…"
      ]
     },
     "metadata": {},
     "output_type": "display_data"
    }
   ],
   "source": [
    "toto = rec.ReclassifyTile(Path.home(), gee=True, dst_class=None, class_path=Path.home()/'tmp', default_class={'forest': str(classif1), 'non_forest': str(classif2)})\n",
    "toto"
   ]
  },
  {
   "cell_type": "code",
   "execution_count": null,
   "id": "0fe226cb-ac00-42d2-b526-3eea75f1ce58",
   "metadata": {},
   "outputs": [],
   "source": []
  }
 ],
 "metadata": {
  "kernelspec": {
   "display_name": "Python 3",
   "language": "python",
   "name": "python3"
  },
  "language_info": {
   "codemirror_mode": {
    "name": "ipython",
    "version": 3
   },
   "file_extension": ".py",
   "mimetype": "text/x-python",
   "name": "python",
   "nbconvert_exporter": "python",
   "pygments_lexer": "ipython3",
   "version": "3.6.9"
  }
 },
 "nbformat": 4,
 "nbformat_minor": 5
}
