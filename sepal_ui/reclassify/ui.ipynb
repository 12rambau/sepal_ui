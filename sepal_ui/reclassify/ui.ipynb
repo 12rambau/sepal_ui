{
 "cells": [
  {
   "cell_type": "code",
   "execution_count": 6,
   "id": "d8a9159f-a73b-4ed7-8ad7-48aef36a1b73",
   "metadata": {},
   "outputs": [],
   "source": [
    "from reclassify_tile import ReclassifyTile"
   ]
  },
  {
   "cell_type": "code",
   "execution_count": 7,
   "id": "62d778a4-99d9-4ee3-ae1f-1cd5388471e5",
   "metadata": {},
   "outputs": [],
   "source": [
    "rt = ReclassifyTile(gee=True)"
   ]
  },
  {
   "cell_type": "code",
   "execution_count": 8,
   "id": "343cd4b9-7cfb-4025-94a9-f6132fb7c2e6",
   "metadata": {},
   "outputs": [],
   "source": [
    "rt.reclassify_view.model.in_raster = '/home/dguerrero/downloads/clc3class.tif'"
   ]
  },
  {
   "cell_type": "code",
   "execution_count": 9,
   "id": "68cb470e-cf6b-42f1-bf97-a944909c781f",
   "metadata": {},
   "outputs": [
    {
     "data": {
      "application/vnd.jupyter.widget-view+json": {
       "model_id": "81cecfd7bf5f4eb9b3b3ecbb143e8665",
       "version_major": 2,
       "version_minor": 0
      },
      "text/plain": [
       "ReclassifyTile(children=[Tabs(children=[Tabs(children=[Tab(children=['Reclassify']), Tab(children=['Customize …"
      ]
     },
     "metadata": {},
     "output_type": "display_data"
    }
   ],
   "source": [
    "rt"
   ]
  },
  {
   "cell_type": "code",
   "execution_count": 10,
   "id": "46cec258-74de-4c97-b393-3a721f935cf3",
   "metadata": {},
   "outputs": [
    {
     "data": {
      "text/plain": [
       "2"
      ]
     },
     "execution_count": 10,
     "metadata": {},
     "output_type": "execute_result"
    }
   ],
   "source": [
    "1+1"
   ]
  }
 ],
 "metadata": {
  "kernelspec": {
   "display_name": "Python 3",
   "language": "python",
   "name": "python3"
  },
  "language_info": {
   "codemirror_mode": {
    "name": "ipython",
    "version": 3
   },
   "file_extension": ".py",
   "mimetype": "text/x-python",
   "name": "python",
   "nbconvert_exporter": "python",
   "pygments_lexer": "ipython3",
   "version": "3.6.9"
  }
 },
 "nbformat": 4,
 "nbformat_minor": 5
}
