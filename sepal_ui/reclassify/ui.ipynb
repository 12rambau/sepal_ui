{
 "cells": [
  {
   "cell_type": "code",
   "execution_count": 1,
   "id": "7e030f6f-7cf5-4daf-b579-e66a3496b2a7",
   "metadata": {},
   "outputs": [],
   "source": [
    "import os \n",
    "\n",
    "os.environ['CUSTOM_LANGUAGE'] = 'en'"
   ]
  },
  {
   "cell_type": "code",
   "execution_count": 2,
   "id": "d8a9159f-a73b-4ed7-8ad7-48aef36a1b73",
   "metadata": {},
   "outputs": [
    {
     "data": {
      "application/vnd.jupyter.widget-view+json": {
       "model_id": "80b336b3ee574d1aa5fc9622cf899dec",
       "version_major": 2,
       "version_minor": 0
      },
      "text/plain": [
       "Styles()"
      ]
     },
     "metadata": {},
     "output_type": "display_data"
    },
    {
     "data": {
      "application/vnd.jupyter.widget-view+json": {
       "model_id": "718861fec5ce4b50b8d3c5b9236ad7ac",
       "version_major": 2,
       "version_minor": 0
      },
      "text/plain": [
       "ResizeTrigger()"
      ]
     },
     "metadata": {},
     "output_type": "display_data"
    }
   ],
   "source": [
    "from sepal_ui import reclassify as rec\n",
    "from pathlib import Path"
   ]
  },
  {
   "cell_type": "code",
   "execution_count": 3,
   "id": "6b818501-bf9d-46ae-a083-2011f9ef450b",
   "metadata": {},
   "outputs": [
    {
     "data": {
      "application/vnd.jupyter.widget-view+json": {
       "model_id": "1e9e963504a5476d9e7c642f628586ee",
       "version_major": 2,
       "version_minor": 0
      },
      "text/plain": [
       "ReclassifyTile(align_center=True, children=[Card(children=[Html(children=['Reclassification'], tag='h2'), Flex…"
      ]
     },
     "metadata": {},
     "output_type": "display_data"
    }
   ],
   "source": [
    "toto = rec.ReclassifyTile(Path.home(), gee=True, default_class=None)\n",
    "toto"
   ]
  },
  {
   "cell_type": "code",
   "execution_count": null,
   "id": "04236fbe-d829-410b-9752-1aa5cc5df913",
   "metadata": {},
   "outputs": [],
   "source": [
    "    "
   ]
  }
 ],
 "metadata": {
  "kernelspec": {
   "display_name": "Python 3",
   "language": "python",
   "name": "python3"
  },
  "language_info": {
   "codemirror_mode": {
    "name": "ipython",
    "version": 3
   },
   "file_extension": ".py",
   "mimetype": "text/x-python",
   "name": "python",
   "nbconvert_exporter": "python",
   "pygments_lexer": "ipython3",
   "version": "3.6.9"
  }
 },
 "nbformat": 4,
 "nbformat_minor": 5
}
