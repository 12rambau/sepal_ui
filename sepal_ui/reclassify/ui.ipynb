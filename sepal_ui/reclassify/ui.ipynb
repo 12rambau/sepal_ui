{
 "cells": [
  {
   "cell_type": "code",
   "execution_count": 1,
   "id": "d8a9159f-a73b-4ed7-8ad7-48aef36a1b73",
   "metadata": {},
   "outputs": [
    {
     "data": {
      "application/vnd.jupyter.widget-view+json": {
       "model_id": "58b3d58743d642b0a27f9fb1f36fc124",
       "version_major": 2,
       "version_minor": 0
      },
      "text/plain": [
       "Styles()"
      ]
     },
     "metadata": {},
     "output_type": "display_data"
    },
    {
     "data": {
      "application/vnd.jupyter.widget-view+json": {
       "model_id": "98ccb6dc5de3435c86001f8212f704d2",
       "version_major": 2,
       "version_minor": 0
      },
      "text/plain": [
       "ResizeTrigger()"
      ]
     },
     "metadata": {},
     "output_type": "display_data"
    }
   ],
   "source": [
    "from reclassify_tile import ReclassifyTile"
   ]
  },
  {
   "cell_type": "code",
   "execution_count": 2,
   "id": "62d778a4-99d9-4ee3-ae1f-1cd5388471e5",
   "metadata": {},
   "outputs": [],
   "source": [
    "rt = ReclassifyTile(gee=True)"
   ]
  },
  {
   "cell_type": "code",
   "execution_count": 3,
   "id": "110a60a7-87cd-4905-8332-9a15dd76679d",
   "metadata": {},
   "outputs": [
    {
     "data": {
      "application/vnd.jupyter.widget-view+json": {
       "model_id": "f17bf02d45f74bffb8b82529c74e4a6d",
       "version_major": 2,
       "version_minor": 0
      },
      "text/plain": [
       "ReclassifyTile(children=[Tabs(children=[Tabs(children=[Tab(children=['Reclassify']), Tab(children=['Customize …"
      ]
     },
     "metadata": {},
     "output_type": "display_data"
    }
   ],
   "source": [
    "rt"
   ]
  },
  {
   "cell_type": "code",
   "execution_count": null,
   "id": "b93ff407-b861-4958-afcb-891851b2c70f",
   "metadata": {},
   "outputs": [],
   "source": [
    "rt.view.w_reclassify_table."
   ]
  },
  {
   "cell_type": "code",
   "execution_count": 4,
   "id": "f418a2de-c4b8-448c-8937-e03fc5f42708",
   "metadata": {},
   "outputs": [
    {
     "data": {
      "text/plain": [
       "{}"
      ]
     },
     "execution_count": 4,
     "metadata": {},
     "output_type": "execute_result"
    }
   ],
   "source": [
    "rt.view.model.matrix"
   ]
  }
 ],
 "metadata": {
  "kernelspec": {
   "display_name": "Python 3",
   "language": "python",
   "name": "python3"
  },
  "language_info": {
   "codemirror_mode": {
    "name": "ipython",
    "version": 3
   },
   "file_extension": ".py",
   "mimetype": "text/x-python",
   "name": "python",
   "nbconvert_exporter": "python",
   "pygments_lexer": "ipython3",
   "version": "3.6.9"
  }
 },
 "nbformat": 4,
 "nbformat_minor": 5
}
