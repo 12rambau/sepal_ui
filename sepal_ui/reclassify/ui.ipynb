{
 "cells": [
  {
   "cell_type": "code",
   "execution_count": 1,
   "id": "d8a9159f-a73b-4ed7-8ad7-48aef36a1b73",
   "metadata": {},
   "outputs": [
    {
     "data": {
      "application/vnd.jupyter.widget-view+json": {
       "model_id": "27929f4039f9432fb568d4dc14e667fc",
       "version_major": 2,
       "version_minor": 0
      },
      "text/plain": [
       "Styles()"
      ]
     },
     "metadata": {},
     "output_type": "display_data"
    },
    {
     "data": {
      "application/vnd.jupyter.widget-view+json": {
       "model_id": "93fac34b5da641b79e32024774b25deb",
       "version_major": 2,
       "version_minor": 0
      },
      "text/plain": [
       "ResizeTrigger()"
      ]
     },
     "metadata": {},
     "output_type": "display_data"
    }
   ],
   "source": [
    "from reclassify_tile import ReclassifyTile"
   ]
  },
  {
   "cell_type": "code",
   "execution_count": 2,
   "id": "6b818501-bf9d-46ae-a083-2011f9ef450b",
   "metadata": {},
   "outputs": [],
   "source": [
    "from pathlib import Path\n",
    "base_dir = Path('~').expanduser()\n",
    "results_dir = base_dir/'module_results/mgci'"
   ]
  },
  {
   "cell_type": "code",
   "execution_count": 3,
   "id": "62d778a4-99d9-4ee3-ae1f-1cd5388471e5",
   "metadata": {},
   "outputs": [],
   "source": [
    "rt = ReclassifyTile(results_dir, gee=True, save=False)"
   ]
  },
  {
   "cell_type": "code",
   "execution_count": 4,
   "id": "110a60a7-87cd-4905-8332-9a15dd76679d",
   "metadata": {},
   "outputs": [
    {
     "data": {
      "application/vnd.jupyter.widget-view+json": {
       "model_id": "2d22b2e281424aebb9359bb88248df26",
       "version_major": 2,
       "version_minor": 0
      },
      "text/plain": [
       "ReclassifyTile(children=[Tabs(children=[Tabs(children=[Tab(children=['Reclassify']), Tab(children=['Customize …"
      ]
     },
     "metadata": {},
     "output_type": "display_data"
    }
   ],
   "source": [
    "rt"
   ]
  },
  {
   "cell_type": "code",
   "execution_count": 5,
   "id": "5bf03d4e-37a3-4fdc-9a06-31a8814cffbf",
   "metadata": {},
   "outputs": [],
   "source": [
    "import ipyvuetify as v"
   ]
  },
  {
   "cell_type": "code",
   "execution_count": 7,
   "id": "05ecaf41-dedb-43e9-ba62-1906039c9e1e",
   "metadata": {},
   "outputs": [],
   "source": [
    "from sepal_ui.sepalwidgets import FileInput"
   ]
  },
  {
   "cell_type": "code",
   "execution_count": 22,
   "id": "30710942-1dc6-45f1-9282-bffcd197c10e",
   "metadata": {},
   "outputs": [
    {
     "data": {
      "application/vnd.jupyter.widget-view+json": {
       "model_id": "11b56bee0b1345099ac459b8ac344612",
       "version_major": 2,
       "version_minor": 0
      },
      "text/plain": [
       "ExpansionPanels(children=[ExpansionPanel(children=[ExpansionPanelHeader(children=['Select a custom file']), Ex…"
      ]
     },
     "metadata": {},
     "output_type": "display_data"
    }
   ],
   "source": []
  },
  {
   "cell_type": "code",
   "execution_count": null,
   "id": "73350fe0-8da1-4023-b4ec-83d1d734b113",
   "metadata": {},
   "outputs": [],
   "source": [
    "rt.view.dialog.w_save_matrix.v_model=True"
   ]
  },
  {
   "cell_type": "code",
   "execution_count": null,
   "id": "63403912-76b2-49c8-9c59-da7ad1672f94",
   "metadata": {},
   "outputs": [],
   "source": [
    "out_file = results_dir/f'custom_classifications'/'asdf.csv'\n",
    "\n",
    "with open(out_file, 'w') as f:\n",
    "    for line in rt.model.matrix.items():\n",
    "        line = [str(l) for l in line]\n",
    "        f.write(\",\".join(line)+'\\n')"
   ]
  },
  {
   "cell_type": "code",
   "execution_count": null,
   "id": "356f4b06-2c14-4c20-b456-bd3a870c6c61",
   "metadata": {},
   "outputs": [],
   "source": [
    "for line in rt.model.matrix.items():\n",
    "    line = [str(l) for l in line]\n",
    "    print(\",\".join(line)+'\\n')"
   ]
  },
  {
   "cell_type": "code",
   "execution_count": null,
   "id": "b4eb7c4f-b018-41ff-bc98-616d6ce93b1a",
   "metadata": {},
   "outputs": [],
   "source": [
    "rt.model.matrix"
   ]
  },
  {
   "cell_type": "code",
   "execution_count": null,
   "id": "f17c82fa-6e01-4373-892a-039a72ad3cd7",
   "metadata": {},
   "outputs": [],
   "source": [
    "matrix = rt.model.matrix"
   ]
  },
  {
   "cell_type": "code",
   "execution_count": null,
   "id": "3baa22a0-76c1-4f78-b6f7-864c3965b3f7",
   "metadata": {},
   "outputs": [],
   "source": [
    "matrix.items()"
   ]
  },
  {
   "cell_type": "code",
   "execution_count": null,
   "id": "0d815a12-5691-4af8-8366-18f669586994",
   "metadata": {},
   "outputs": [],
   "source": [
    "rt.model.matrix = x"
   ]
  },
  {
   "cell_type": "code",
   "execution_count": null,
   "id": "84d1a28b-690d-4326-9901-682ec97fab55",
   "metadata": {},
   "outputs": [],
   "source": [
    "x = rt.model.matrix"
   ]
  },
  {
   "cell_type": "code",
   "execution_count": null,
   "id": "d2c43c39-5a14-4d25-93c8-2a465b09e2e8",
   "metadata": {},
   "outputs": [],
   "source": [
    "x[111] = 123"
   ]
  },
  {
   "cell_type": "code",
   "execution_count": null,
   "id": "ba15db28-fb55-47f0-9080-84d781e25980",
   "metadata": {},
   "outputs": [],
   "source": [
    "x"
   ]
  }
 ],
 "metadata": {
  "kernelspec": {
   "display_name": "Python 3",
   "language": "python",
   "name": "python3"
  },
  "language_info": {
   "codemirror_mode": {
    "name": "ipython",
    "version": 3
   },
   "file_extension": ".py",
   "mimetype": "text/x-python",
   "name": "python",
   "nbconvert_exporter": "python",
   "pygments_lexer": "ipython3",
   "version": "3.6.9"
  }
 },
 "nbformat": 4,
 "nbformat_minor": 5
}
