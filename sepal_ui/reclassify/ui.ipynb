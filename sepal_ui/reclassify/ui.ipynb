{
 "cells": [
  {
   "cell_type": "code",
   "execution_count": 1,
   "id": "7e030f6f-7cf5-4daf-b579-e66a3496b2a7",
   "metadata": {},
   "outputs": [],
   "source": [
    "import os \n",
    "\n",
    "os.environ['CUSTOM_LANGUAGE'] = 'en'"
   ]
  },
  {
   "cell_type": "code",
   "execution_count": 2,
   "id": "d8a9159f-a73b-4ed7-8ad7-48aef36a1b73",
   "metadata": {},
   "outputs": [
    {
     "data": {
      "application/vnd.jupyter.widget-view+json": {
       "model_id": "d4562e4ea3154b9b896c25dfc13146c0",
       "version_major": 2,
       "version_minor": 0
      },
      "text/plain": [
       "Styles()"
      ]
     },
     "metadata": {},
     "output_type": "display_data"
    },
    {
     "data": {
      "application/vnd.jupyter.widget-view+json": {
       "model_id": "6b0125b0db2f4ce89515c65f3d64db34",
       "version_major": 2,
       "version_minor": 0
      },
      "text/plain": [
       "ResizeTrigger()"
      ]
     },
     "metadata": {},
     "output_type": "display_data"
    }
   ],
   "source": [
    "from sepal_ui import reclassify as rec\n",
    "from pathlib import Path"
   ]
  },
  {
   "cell_type": "code",
   "execution_count": null,
   "id": "6b818501-bf9d-46ae-a083-2011f9ef450b",
   "metadata": {},
   "outputs": [],
   "source": [
    "toto = rec.ReclassifyTile(Path.home(), gee=True, dst_class=None, default_class={'toto': 'toto', 'foret non foret': '/home/prambaud/foret_non_foret.csv'})\n",
    "toto"
   ]
  }
 ],
 "metadata": {
  "kernelspec": {
   "display_name": "Python 3",
   "language": "python",
   "name": "python3"
  },
  "language_info": {
   "codemirror_mode": {
    "name": "ipython",
    "version": 3
   },
   "file_extension": ".py",
   "mimetype": "text/x-python",
   "name": "python",
   "nbconvert_exporter": "python",
   "pygments_lexer": "ipython3",
   "version": "3.6.9"
  }
 },
 "nbformat": 4,
 "nbformat_minor": 5
}
