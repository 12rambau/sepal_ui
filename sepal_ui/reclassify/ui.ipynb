{
 "cells": [
  {
   "cell_type": "code",
   "execution_count": null,
   "id": "7e030f6f-7cf5-4daf-b579-e66a3496b2a7",
   "metadata": {},
   "outputs": [],
   "source": [
    "import os \n",
    "\n",
    "os.environ['CUSTOM_LANGUAGE'] = 'en'"
   ]
  },
  {
   "cell_type": "code",
   "execution_count": null,
   "id": "d8a9159f-a73b-4ed7-8ad7-48aef36a1b73",
   "metadata": {},
   "outputs": [],
   "source": [
    "from sepal_ui import reclassify as rec\n",
    "from pathlib import Path"
   ]
  },
  {
   "cell_type": "code",
   "execution_count": null,
   "id": "19c6ed59-744f-4df3-bc49-3bde8454b7ba",
   "metadata": {},
   "outputs": [],
   "source": [
    "# create a fake classification file\n",
    "classif1 = Path.home()/'tmp'/'forest.csv'\n",
    "classif1.write_text('45,non-forest,#253049\\n53,forest,#083F19\\n')\n",
    "\n",
    "classif2 = Path.home()/'tmp'/'non_forest.csv'\n",
    "classif2.write_text('32,non-forest,#253049\\n25,forest,#FF0000\\n')\n",
    "\n",
    "classif_clc = Path.home()/'tmp'/'clc3.csv'\n",
    "classif_clc.write_text('1,non-forest,#253049\\n2,forest,#083F19\\n3,other,#083F19\\n')\n",
    "\n",
    "# create a fake matrix file (compatible with clc3class)\n",
    "matrix = Path.home()/'tmp'/'matrix.csv'\n",
    "matrix.write_text('1,53\\n2,45\\n3,53\\n')"
   ]
  },
  {
   "cell_type": "code",
   "execution_count": null,
   "id": "4474ef36-fbdb-4e71-a164-71e42f5af407",
   "metadata": {},
   "outputs": [],
   "source": [
    "# a public asset to use: \n",
    "# table : users/dafguerrerom/FAO/LULC_2012_AOI\n",
    "# raster : users/bornToBeAlive/clc3class"
   ]
  },
  {
   "cell_type": "code",
   "execution_count": null,
   "id": "6b818501-bf9d-46ae-a083-2011f9ef450b",
   "metadata": {},
   "outputs": [],
   "source": [
    "toto = rec.ReclassifyTile(Path.home(), gee=True, dst_class=None, class_path=Path.home()/'tmp', default_class={'forest': str(classif1), 'non_forest': str(classif2)})\n",
    "toto"
   ]
  },
  {
   "cell_type": "code",
   "execution_count": null,
   "id": "0fe226cb-ac00-42d2-b526-3eea75f1ce58",
   "metadata": {},
   "outputs": [],
   "source": []
  }
 ],
 "metadata": {
  "kernelspec": {
   "display_name": "Python 3",
   "language": "python",
   "name": "python3"
  },
  "language_info": {
   "codemirror_mode": {
    "name": "ipython",
    "version": 3
   },
   "file_extension": ".py",
   "mimetype": "text/x-python",
   "name": "python",
   "nbconvert_exporter": "python",
   "pygments_lexer": "ipython3",
   "version": "3.6.9"
  }
 },
 "nbformat": 4,
 "nbformat_minor": 5
}
