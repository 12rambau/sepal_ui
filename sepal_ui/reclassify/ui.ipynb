{
 "cells": [
  {
   "cell_type": "code",
   "execution_count": 1,
   "id": "d8a9159f-a73b-4ed7-8ad7-48aef36a1b73",
   "metadata": {},
   "outputs": [
    {
     "data": {
      "application/vnd.jupyter.widget-view+json": {
       "model_id": "a2ac8831702a4a62aad88ac87ba101d5",
       "version_major": 2,
       "version_minor": 0
      },
      "text/plain": [
       "Styles()"
      ]
     },
     "metadata": {},
     "output_type": "display_data"
    },
    {
     "data": {
      "application/vnd.jupyter.widget-view+json": {
       "model_id": "a379511890a04221b07a38ed39c97c7e",
       "version_major": 2,
       "version_minor": 0
      },
      "text/plain": [
       "ResizeTrigger()"
      ]
     },
     "metadata": {},
     "output_type": "display_data"
    }
   ],
   "source": [
    "from reclassify_tile import ReclassifyTile"
   ]
  },
  {
   "cell_type": "code",
   "execution_count": 2,
   "id": "62d778a4-99d9-4ee3-ae1f-1cd5388471e5",
   "metadata": {},
   "outputs": [],
   "source": [
    "rt = ReclassifyTile(gee=True, save=True)"
   ]
  },
  {
   "cell_type": "code",
   "execution_count": 3,
   "id": "110a60a7-87cd-4905-8332-9a15dd76679d",
   "metadata": {},
   "outputs": [
    {
     "data": {
      "application/vnd.jupyter.widget-view+json": {
       "model_id": "194fc12489aa41f79b7a25a9ccf22512",
       "version_major": 2,
       "version_minor": 0
      },
      "text/plain": [
       "ReclassifyTile(children=[Tabs(children=[Tabs(children=[Tab(children=['Reclassify']), Tab(children=['Customize …"
      ]
     },
     "metadata": {},
     "output_type": "display_data"
    }
   ],
   "source": [
    "rt"
   ]
  }
 ],
 "metadata": {
  "kernelspec": {
   "display_name": "Python 3",
   "language": "python",
   "name": "python3"
  },
  "language_info": {
   "codemirror_mode": {
    "name": "ipython",
    "version": 3
   },
   "file_extension": ".py",
   "mimetype": "text/x-python",
   "name": "python",
   "nbconvert_exporter": "python",
   "pygments_lexer": "ipython3",
   "version": "3.6.9"
  }
 },
 "nbformat": 4,
 "nbformat_minor": 5
}
