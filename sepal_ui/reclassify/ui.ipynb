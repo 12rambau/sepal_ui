{
 "cells": [
  {
   "cell_type": "code",
   "execution_count": 1,
   "id": "d8a9159f-a73b-4ed7-8ad7-48aef36a1b73",
   "metadata": {},
   "outputs": [
    {
     "data": {
      "application/vnd.jupyter.widget-view+json": {
       "model_id": "8e748322448d42aa904bfb310d15e82c",
       "version_major": 2,
       "version_minor": 0
      },
      "text/plain": [
       "Styles()"
      ]
     },
     "metadata": {},
     "output_type": "display_data"
    },
    {
     "data": {
      "application/vnd.jupyter.widget-view+json": {
       "model_id": "61c6cf2e15694788962ea171dcdc2f17",
       "version_major": 2,
       "version_minor": 0
      },
      "text/plain": [
       "ResizeTrigger()"
      ]
     },
     "metadata": {},
     "output_type": "display_data"
    }
   ],
   "source": [
    "from reclassify_tile import ReclassifyTile"
   ]
  },
  {
   "cell_type": "code",
   "execution_count": 2,
   "id": "62d778a4-99d9-4ee3-ae1f-1cd5388471e5",
   "metadata": {},
   "outputs": [],
   "source": [
    "rt = ReclassifyTile(gee=True, save=True)"
   ]
  },
  {
   "cell_type": "code",
   "execution_count": 3,
   "id": "110a60a7-87cd-4905-8332-9a15dd76679d",
   "metadata": {},
   "outputs": [
    {
     "data": {
      "application/vnd.jupyter.widget-view+json": {
       "model_id": "6ef37bbd9dc7481bae5cd359b17512b9",
       "version_major": 2,
       "version_minor": 0
      },
      "text/plain": [
       "ReclassifyTile(children=[Tabs(children=[Tabs(children=[Tab(children=['Reclassify']), Tab(children=['Customize …"
      ]
     },
     "metadata": {},
     "output_type": "display_data"
    }
   ],
   "source": [
    "rt"
   ]
  },
  {
   "cell_type": "code",
   "execution_count": null,
   "id": "7fd316a6-5209-4519-ba4a-72194f01ed94",
   "metadata": {},
   "outputs": [],
   "source": [
    "from sepal_ui.mapping import SepalMap"
   ]
  },
  {
   "cell_type": "code",
   "execution_count": null,
   "id": "ecbde86c-9a0c-4891-9884-420fab665197",
   "metadata": {},
   "outputs": [],
   "source": [
    "map_= SepalMap()\n",
    "reclassify_layer = rt.model.reclass_ee_image\n",
    "map_.addLayer(reclassify_layer)\n",
    "map_"
   ]
  },
  {
   "cell_type": "code",
   "execution_count": null,
   "id": "6586ae1f-3140-4e55-815b-8fa01e24a1b6",
   "metadata": {},
   "outputs": [],
   "source": [
    "rt1 = ReclassifyTile(gee=True, save=False)\n",
    "rt1"
   ]
  },
  {
   "cell_type": "code",
   "execution_count": null,
   "id": "d2eeb1ae-94c5-4b2f-80e8-7d52ad224b9f",
   "metadata": {},
   "outputs": [],
   "source": [
    "import ee"
   ]
  },
  {
   "cell_type": "code",
   "execution_count": null,
   "id": "a1bcdfa4-a51a-4200-a43e-a411f3272208",
   "metadata": {},
   "outputs": [],
   "source": [
    "ee_object = ee.Image(rt1.model.asset_id)"
   ]
  },
  {
   "cell_type": "code",
   "execution_count": null,
   "id": "aaecbccf-e1bb-434d-972d-788c7908d6ff",
   "metadata": {},
   "outputs": [],
   "source": [
    "# Reduce image\n",
    "reduced = ee_object.reduceRegion(\n",
    "  reducer = ee.Reducer.autoHistogram(maxBuckets=40000), \n",
    "  geometry = ee_object.geometry(), \n",
    "  scale=30, \n",
    "  maxPixels=1e13\n",
    ")"
   ]
  },
  {
   "cell_type": "code",
   "execution_count": null,
   "id": "324bc7ad-fe05-4dac-853d-412ce072a2b0",
   "metadata": {},
   "outputs": [],
   "source": [
    "array = ee.Array(ee.List(reduced.get('mag'))).getInfo()"
   ]
  },
  {
   "cell_type": "code",
   "execution_count": null,
   "id": "8fa53ed5-ed66-4834-9643-2fb902022841",
   "metadata": {},
   "outputs": [],
   "source": [
    "len(array)"
   ]
  },
  {
   "cell_type": "code",
   "execution_count": null,
   "id": "8f85f56e-7e2e-4234-aa9d-0fd758fa3edf",
   "metadata": {},
   "outputs": [],
   "source": [
    "rt1.mdoel"
   ]
  },
  {
   "cell_type": "code",
   "execution_count": null,
   "id": "34a965cf-4cf6-46f1-91e6-44adc15536ad",
   "metadata": {},
   "outputs": [],
   "source": [
    "rt2 = ReclassifyTile(gee=False, save=True)\n",
    "rt2"
   ]
  },
  {
   "cell_type": "code",
   "execution_count": null,
   "id": "03707a5c-3abf-4db9-ac60-7380cdb31244",
   "metadata": {},
   "outputs": [],
   "source": []
  },
  {
   "cell_type": "code",
   "execution_count": null,
   "id": "e5a1ec34-394e-4853-82f7-4f6d22eb3a06",
   "metadata": {},
   "outputs": [],
   "source": [
    "rt3 = ReclassifyTile(gee=False, save=False)\n",
    "rt3"
   ]
  },
  {
   "cell_type": "code",
   "execution_count": null,
   "id": "621a98a1-a393-48db-88b6-f2ab3a3b7c22",
   "metadata": {},
   "outputs": [],
   "source": []
  }
 ],
 "metadata": {
  "kernelspec": {
   "display_name": "Python 3",
   "language": "python",
   "name": "python3"
  },
  "language_info": {
   "codemirror_mode": {
    "name": "ipython",
    "version": 3
   },
   "file_extension": ".py",
   "mimetype": "text/x-python",
   "name": "python",
   "nbconvert_exporter": "python",
   "pygments_lexer": "ipython3",
   "version": "3.6.9"
  }
 },
 "nbformat": 4,
 "nbformat_minor": 5
}
